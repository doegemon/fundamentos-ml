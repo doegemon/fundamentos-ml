{
 "cells": [
  {
   "cell_type": "markdown",
   "metadata": {},
   "source": [
    "# Ensaio de Machine Learning - Regressão"
   ]
  },
  {
   "cell_type": "markdown",
   "metadata": {},
   "source": [
    "## 0. Bibliotecas e _Helper Functions_"
   ]
  },
  {
   "cell_type": "code",
   "execution_count": 25,
   "metadata": {},
   "outputs": [],
   "source": [
    "import warnings\n",
    "import numpy  as np\n",
    "import pandas as pd\n",
    "from sklearn.linear_model import LinearRegression, Lasso, Ridge, ElasticNet, RANSACRegressor\n",
    "from sklearn.tree         import DecisionTreeRegressor\n",
    "from sklearn.ensemble     import RandomForestRegressor\n",
    "from sklearn.preprocessing import PolynomialFeatures, MinMaxScaler\n",
    "from sklearn.metrics       import r2_score, mean_absolute_error, mean_absolute_percentage_error, mean_squared_error\n",
    "from sklearn.model_selection import GridSearchCV\n",
    "from sklearn.pipeline      import Pipeline"
   ]
  },
  {
   "cell_type": "code",
   "execution_count": 26,
   "metadata": {},
   "outputs": [],
   "source": [
    "def personal_settings():\n",
    "    pd.options.display.max_columns = None\n",
    "    pd.options.display.max_rows = None\n",
    "    pd.set_option('display.float_format', lambda x:'%.2f' % x)\n",
    "    warnings.filterwarnings('ignore')\n",
    "\n",
    "\n",
    "def model_avaliation(model_name, y_true, y_pred):\n",
    "    r2 = r2_score( y_true, y_pred )\n",
    "    mse = mean_squared_error( y_true, y_pred )\n",
    "    rmse = mean_squared_error( y_true, y_pred, squared=False )\n",
    "    mae = mean_absolute_error( y_true, y_pred )\n",
    "    mape = mean_absolute_percentage_error( y_true, y_pred )\n",
    "    \n",
    "    return pd.DataFrame( {'Model': model_name,\n",
    "                         'R²': r2,\n",
    "                         'MSE': mse,\n",
    "                         'RMSE': rmse,\n",
    "                         'MAE': mae,\n",
    "                         'MAPE': mape}, index=[0] )\n",
    "\n",
    "personal_settings()"
   ]
  },
  {
   "cell_type": "markdown",
   "metadata": {},
   "source": [
    "## 1. Carregando Dados"
   ]
  },
  {
   "cell_type": "markdown",
   "metadata": {},
   "source": [
    "### Treinamento"
   ]
  },
  {
   "cell_type": "code",
   "execution_count": 27,
   "metadata": {},
   "outputs": [
    {
     "name": "stdout",
     "output_type": "stream",
     "text": [
      "(10547, 13)\n"
     ]
    },
    {
     "data": {
      "text/html": [
       "<div>\n",
       "<style scoped>\n",
       "    .dataframe tbody tr th:only-of-type {\n",
       "        vertical-align: middle;\n",
       "    }\n",
       "\n",
       "    .dataframe tbody tr th {\n",
       "        vertical-align: top;\n",
       "    }\n",
       "\n",
       "    .dataframe thead th {\n",
       "        text-align: right;\n",
       "    }\n",
       "</style>\n",
       "<table border=\"1\" class=\"dataframe\">\n",
       "  <thead>\n",
       "    <tr style=\"text-align: right;\">\n",
       "      <th></th>\n",
       "      <th>song_duration_ms</th>\n",
       "      <th>acousticness</th>\n",
       "      <th>danceability</th>\n",
       "      <th>energy</th>\n",
       "      <th>instrumentalness</th>\n",
       "      <th>key</th>\n",
       "      <th>liveness</th>\n",
       "      <th>loudness</th>\n",
       "      <th>audio_mode</th>\n",
       "      <th>speechiness</th>\n",
       "      <th>tempo</th>\n",
       "      <th>time_signature</th>\n",
       "      <th>audio_valence</th>\n",
       "    </tr>\n",
       "  </thead>\n",
       "  <tbody>\n",
       "    <tr>\n",
       "      <th>6036</th>\n",
       "      <td>-1.27</td>\n",
       "      <td>0.80</td>\n",
       "      <td>0.54</td>\n",
       "      <td>0.48</td>\n",
       "      <td>0.03</td>\n",
       "      <td>0.73</td>\n",
       "      <td>0.31</td>\n",
       "      <td>-0.43</td>\n",
       "      <td>1</td>\n",
       "      <td>0.06</td>\n",
       "      <td>1.62</td>\n",
       "      <td>0.80</td>\n",
       "      <td>0.86</td>\n",
       "    </tr>\n",
       "    <tr>\n",
       "      <th>1593</th>\n",
       "      <td>0.01</td>\n",
       "      <td>0.44</td>\n",
       "      <td>0.66</td>\n",
       "      <td>0.56</td>\n",
       "      <td>0.00</td>\n",
       "      <td>0.00</td>\n",
       "      <td>0.08</td>\n",
       "      <td>-0.00</td>\n",
       "      <td>1</td>\n",
       "      <td>0.26</td>\n",
       "      <td>-0.18</td>\n",
       "      <td>0.80</td>\n",
       "      <td>0.32</td>\n",
       "    </tr>\n",
       "    <tr>\n",
       "      <th>5477</th>\n",
       "      <td>0.46</td>\n",
       "      <td>0.53</td>\n",
       "      <td>0.63</td>\n",
       "      <td>0.43</td>\n",
       "      <td>0.00</td>\n",
       "      <td>0.36</td>\n",
       "      <td>0.07</td>\n",
       "      <td>-0.12</td>\n",
       "      <td>1</td>\n",
       "      <td>0.06</td>\n",
       "      <td>-1.57</td>\n",
       "      <td>0.80</td>\n",
       "      <td>0.25</td>\n",
       "    </tr>\n",
       "    <tr>\n",
       "      <th>6161</th>\n",
       "      <td>-0.65</td>\n",
       "      <td>0.83</td>\n",
       "      <td>0.47</td>\n",
       "      <td>0.23</td>\n",
       "      <td>0.01</td>\n",
       "      <td>0.27</td>\n",
       "      <td>0.11</td>\n",
       "      <td>-1.32</td>\n",
       "      <td>1</td>\n",
       "      <td>0.03</td>\n",
       "      <td>-2.14</td>\n",
       "      <td>0.80</td>\n",
       "      <td>0.36</td>\n",
       "    </tr>\n",
       "    <tr>\n",
       "      <th>1498</th>\n",
       "      <td>-0.44</td>\n",
       "      <td>0.15</td>\n",
       "      <td>0.62</td>\n",
       "      <td>0.76</td>\n",
       "      <td>0.01</td>\n",
       "      <td>0.73</td>\n",
       "      <td>0.21</td>\n",
       "      <td>0.64</td>\n",
       "      <td>0</td>\n",
       "      <td>0.13</td>\n",
       "      <td>-1.13</td>\n",
       "      <td>0.80</td>\n",
       "      <td>0.72</td>\n",
       "    </tr>\n",
       "  </tbody>\n",
       "</table>\n",
       "</div>"
      ],
      "text/plain": [
       "      song_duration_ms  acousticness  danceability  energy  instrumentalness  \\\n",
       "6036             -1.27          0.80          0.54    0.48              0.03   \n",
       "1593              0.01          0.44          0.66    0.56              0.00   \n",
       "5477              0.46          0.53          0.63    0.43              0.00   \n",
       "6161             -0.65          0.83          0.47    0.23              0.01   \n",
       "1498             -0.44          0.15          0.62    0.76              0.01   \n",
       "\n",
       "      key  liveness  loudness  audio_mode  speechiness  tempo  time_signature  \\\n",
       "6036 0.73      0.31     -0.43           1         0.06   1.62            0.80   \n",
       "1593 0.00      0.08     -0.00           1         0.26  -0.18            0.80   \n",
       "5477 0.36      0.07     -0.12           1         0.06  -1.57            0.80   \n",
       "6161 0.27      0.11     -1.32           1         0.03  -2.14            0.80   \n",
       "1498 0.73      0.21      0.64           0         0.13  -1.13            0.80   \n",
       "\n",
       "      audio_valence  \n",
       "6036           0.86  \n",
       "1593           0.32  \n",
       "5477           0.25  \n",
       "6161           0.36  \n",
       "1498           0.72  "
      ]
     },
     "metadata": {},
     "output_type": "display_data"
    }
   ],
   "source": [
    "X_train = pd.read_csv( 'data/X_training.csv', low_memory=False )\n",
    "print( X_train.shape )\n",
    "display( X_train.sample( 5 ) )"
   ]
  },
  {
   "cell_type": "code",
   "execution_count": 28,
   "metadata": {},
   "outputs": [
    {
     "name": "stdout",
     "output_type": "stream",
     "text": [
      "(10547,)\n"
     ]
    }
   ],
   "source": [
    "y_train = pd.read_csv( 'data/y_training.csv', low_memory=False )\n",
    "y_train = y_train.values.ravel()\n",
    "print( y_train.shape )"
   ]
  },
  {
   "cell_type": "markdown",
   "metadata": {},
   "source": [
    "### Validação"
   ]
  },
  {
   "cell_type": "code",
   "execution_count": 29,
   "metadata": {},
   "outputs": [
    {
     "name": "stdout",
     "output_type": "stream",
     "text": [
      "(4521, 13)\n"
     ]
    }
   ],
   "source": [
    "X_val = pd.read_csv( 'data/X_validation.csv', low_memory=False )\n",
    "print( X_val.shape )"
   ]
  },
  {
   "cell_type": "code",
   "execution_count": 30,
   "metadata": {},
   "outputs": [
    {
     "name": "stdout",
     "output_type": "stream",
     "text": [
      "(4521,)\n"
     ]
    }
   ],
   "source": [
    "y_val = pd.read_csv( 'data/y_val.csv', low_memory=False )\n",
    "y_val = y_val.values.ravel()\n",
    "print( y_val.shape )"
   ]
  },
  {
   "cell_type": "markdown",
   "metadata": {},
   "source": [
    "### Teste"
   ]
  },
  {
   "cell_type": "code",
   "execution_count": 31,
   "metadata": {},
   "outputs": [
    {
     "name": "stdout",
     "output_type": "stream",
     "text": [
      "(3767, 13)\n"
     ]
    }
   ],
   "source": [
    "X_test = pd.read_csv( 'data/X_test.csv', low_memory=False )\n",
    "print( X_test.shape )"
   ]
  },
  {
   "cell_type": "code",
   "execution_count": 32,
   "metadata": {},
   "outputs": [
    {
     "name": "stdout",
     "output_type": "stream",
     "text": [
      "(3767,)\n"
     ]
    }
   ],
   "source": [
    "y_test = pd.read_csv( 'data/y_test.csv', low_memory=False )\n",
    "y_test = y_test.values.ravel()\n",
    "print( y_test.shape )"
   ]
  },
  {
   "cell_type": "markdown",
   "metadata": {},
   "source": [
    "## 2. Treinamento dos Algoritmos"
   ]
  },
  {
   "cell_type": "markdown",
   "metadata": {},
   "source": [
    "### 2.1 Sem Alteração nos Parâmetros e Treino + Teste"
   ]
  },
  {
   "cell_type": "markdown",
   "metadata": {},
   "source": [
    "#### Linear Regression"
   ]
  },
  {
   "cell_type": "code",
   "execution_count": 33,
   "metadata": {},
   "outputs": [],
   "source": [
    "lr_model = LinearRegression()\n",
    "lr_model_pipeline = Pipeline([('MinMaxScaler', MinMaxScaler()), ('Linear Regression', lr_model)])\n",
    "\n",
    "lr_model_pipeline.fit( X_train, y_train )\n",
    "\n",
    "y_pred_lr = lr_model_pipeline.predict( X_test )"
   ]
  },
  {
   "cell_type": "markdown",
   "metadata": {},
   "source": [
    "#### Decision Tree"
   ]
  },
  {
   "cell_type": "code",
   "execution_count": 34,
   "metadata": {},
   "outputs": [],
   "source": [
    "tree_model = DecisionTreeRegressor( random_state=42 )\n",
    "tree_model_pipeline = Pipeline([('MinMaxScaler', MinMaxScaler()), ('Decision Tree', tree_model)])\n",
    "\n",
    "tree_model_pipeline.fit( X_train, y_train )\n",
    "\n",
    "y_pred_tree = tree_model_pipeline.predict( X_test )"
   ]
  },
  {
   "cell_type": "markdown",
   "metadata": {},
   "source": [
    "#### Random Forest"
   ]
  },
  {
   "cell_type": "code",
   "execution_count": 35,
   "metadata": {},
   "outputs": [],
   "source": [
    "rf_model = RandomForestRegressor( random_state=42 )\n",
    "rf_model_pipeline = Pipeline([('MinMaxScaler', MinMaxScaler()), ('Random Forest', rf_model)])\n",
    "\n",
    "rf_model_pipeline.fit( X_train, y_train )\n",
    "\n",
    "y_pred_rf = rf_model_pipeline.predict( X_test )"
   ]
  },
  {
   "cell_type": "markdown",
   "metadata": {},
   "source": [
    "#### Polynomial"
   ]
  },
  {
   "cell_type": "code",
   "execution_count": 36,
   "metadata": {},
   "outputs": [],
   "source": [
    "poly = PolynomialFeatures()\n",
    "X_test_poly  = poly.fit_transform( X_test )\n",
    "X_train_poly = poly.fit_transform( X_train )"
   ]
  },
  {
   "cell_type": "code",
   "execution_count": 37,
   "metadata": {},
   "outputs": [],
   "source": [
    "poly_model = LinearRegression()\n",
    "poly_model.fit( X_train_poly, y_train )\n",
    "\n",
    "y_pred_poly = poly_model.predict( X_test_poly )"
   ]
  },
  {
   "cell_type": "markdown",
   "metadata": {},
   "source": [
    "#### RANSAC"
   ]
  },
  {
   "cell_type": "code",
   "execution_count": 38,
   "metadata": {},
   "outputs": [],
   "source": [
    "ransac_model = RANSACRegressor( random_state=42 )\n",
    "ransac_model_pipeline = Pipeline([('MinMaxScaler', MinMaxScaler()), ('RANSAC', ransac_model)])\n",
    "\n",
    "ransac_model_pipeline.fit( X_train, y_train )\n",
    "\n",
    "y_pred_ransac = ransac_model_pipeline.predict( X_test )"
   ]
  },
  {
   "cell_type": "markdown",
   "metadata": {},
   "source": [
    "#### Linear Regression - Lasso"
   ]
  },
  {
   "cell_type": "code",
   "execution_count": 39,
   "metadata": {},
   "outputs": [],
   "source": [
    "lr_lasso_model = Lasso()\n",
    "lr_lasso_model_pipeline = Pipeline([('MinMaxScaler', MinMaxScaler()), ('LR Lasso', lr_lasso_model)])\n",
    "\n",
    "lr_lasso_model_pipeline.fit( X_train, y_train )\n",
    "\n",
    "y_pred_lr_lasso = lr_lasso_model_pipeline.predict( X_test )"
   ]
  },
  {
   "cell_type": "markdown",
   "metadata": {},
   "source": [
    "#### Linear Regression - Ridge"
   ]
  },
  {
   "cell_type": "code",
   "execution_count": 40,
   "metadata": {},
   "outputs": [],
   "source": [
    "lr_ridge_model = Ridge()\n",
    "lr_ridge_model_pipeline = Pipeline([('MinMaxScaler', MinMaxScaler()), ('LR Ridge', lr_ridge_model)])\n",
    "\n",
    "lr_ridge_model_pipeline.fit( X_train, y_train )\n",
    "\n",
    "y_pred_lr_ridge = lr_ridge_model_pipeline.predict( X_test )"
   ]
  },
  {
   "cell_type": "markdown",
   "metadata": {},
   "source": [
    "#### Linear Regression - Elastic Net"
   ]
  },
  {
   "cell_type": "code",
   "execution_count": 41,
   "metadata": {},
   "outputs": [],
   "source": [
    "lr_elastic_model = ElasticNet()\n",
    "lr_elastic_model_pipeline = Pipeline([('MinMaxScaler', MinMaxScaler()), ('LR Elastic', lr_elastic_model)])\n",
    "\n",
    "lr_elastic_model_pipeline.fit( X_train, y_train )\n",
    "\n",
    "y_pred_lr_elastic = lr_elastic_model_pipeline.predict( X_test )"
   ]
  },
  {
   "cell_type": "markdown",
   "metadata": {},
   "source": [
    "#### Polynomial Regression - Lasso"
   ]
  },
  {
   "cell_type": "code",
   "execution_count": 42,
   "metadata": {},
   "outputs": [],
   "source": [
    "poly_lasso_model = Lasso()\n",
    "poly_lasso_model.fit( X_train_poly, y_train )\n",
    "\n",
    "y_pred_poly_lasso = poly_lasso_model.predict( X_test_poly )"
   ]
  },
  {
   "cell_type": "markdown",
   "metadata": {},
   "source": [
    "#### Polynomial Regression - Ridge"
   ]
  },
  {
   "cell_type": "code",
   "execution_count": 43,
   "metadata": {},
   "outputs": [],
   "source": [
    "poly_ridge_model = Ridge()\n",
    "poly_ridge_model.fit( X_train_poly, y_train )\n",
    "\n",
    "y_pred_poly_ridge = poly_ridge_model.predict( X_test_poly )"
   ]
  },
  {
   "cell_type": "markdown",
   "metadata": {},
   "source": [
    "#### Polynomial Regression - Elastic Net"
   ]
  },
  {
   "cell_type": "code",
   "execution_count": 44,
   "metadata": {},
   "outputs": [],
   "source": [
    "poly_elastic_model = ElasticNet()\n",
    "poly_elastic_model.fit( X_train_poly, y_train )\n",
    "\n",
    "y_pred_poly_elastic = poly_elastic_model.predict( X_test_poly )"
   ]
  },
  {
   "cell_type": "markdown",
   "metadata": {},
   "source": [
    "#### Performance"
   ]
  },
  {
   "cell_type": "code",
   "execution_count": 45,
   "metadata": {},
   "outputs": [
    {
     "data": {
      "text/html": [
       "<div>\n",
       "<style scoped>\n",
       "    .dataframe tbody tr th:only-of-type {\n",
       "        vertical-align: middle;\n",
       "    }\n",
       "\n",
       "    .dataframe tbody tr th {\n",
       "        vertical-align: top;\n",
       "    }\n",
       "\n",
       "    .dataframe thead th {\n",
       "        text-align: right;\n",
       "    }\n",
       "</style>\n",
       "<table border=\"1\" class=\"dataframe\">\n",
       "  <thead>\n",
       "    <tr style=\"text-align: right;\">\n",
       "      <th></th>\n",
       "      <th>Model</th>\n",
       "      <th>R²</th>\n",
       "      <th>MSE</th>\n",
       "      <th>RMSE</th>\n",
       "      <th>MAE</th>\n",
       "      <th>MAPE</th>\n",
       "    </tr>\n",
       "  </thead>\n",
       "  <tbody>\n",
       "    <tr>\n",
       "      <th>0</th>\n",
       "      <td>Random Forest</td>\n",
       "      <td>0.35</td>\n",
       "      <td>315.85</td>\n",
       "      <td>17.77</td>\n",
       "      <td>13.05</td>\n",
       "      <td>6.51</td>\n",
       "    </tr>\n",
       "    <tr>\n",
       "      <th>0</th>\n",
       "      <td>Polynomial Regression</td>\n",
       "      <td>0.09</td>\n",
       "      <td>443.04</td>\n",
       "      <td>21.05</td>\n",
       "      <td>16.72</td>\n",
       "      <td>8.24</td>\n",
       "    </tr>\n",
       "    <tr>\n",
       "      <th>0</th>\n",
       "      <td>Polynomial - Ridge</td>\n",
       "      <td>0.09</td>\n",
       "      <td>443.49</td>\n",
       "      <td>21.06</td>\n",
       "      <td>16.73</td>\n",
       "      <td>8.29</td>\n",
       "    </tr>\n",
       "    <tr>\n",
       "      <th>0</th>\n",
       "      <td>Linear Regression</td>\n",
       "      <td>0.05</td>\n",
       "      <td>461.43</td>\n",
       "      <td>21.48</td>\n",
       "      <td>17.13</td>\n",
       "      <td>8.52</td>\n",
       "    </tr>\n",
       "    <tr>\n",
       "      <th>0</th>\n",
       "      <td>LR - Ridge</td>\n",
       "      <td>0.05</td>\n",
       "      <td>461.45</td>\n",
       "      <td>21.48</td>\n",
       "      <td>17.13</td>\n",
       "      <td>8.52</td>\n",
       "    </tr>\n",
       "    <tr>\n",
       "      <th>0</th>\n",
       "      <td>Polynomial - Elastic</td>\n",
       "      <td>0.01</td>\n",
       "      <td>481.70</td>\n",
       "      <td>21.95</td>\n",
       "      <td>17.43</td>\n",
       "      <td>8.75</td>\n",
       "    </tr>\n",
       "    <tr>\n",
       "      <th>0</th>\n",
       "      <td>Polynomial - Lasso</td>\n",
       "      <td>0.01</td>\n",
       "      <td>482.82</td>\n",
       "      <td>21.97</td>\n",
       "      <td>17.46</td>\n",
       "      <td>8.76</td>\n",
       "    </tr>\n",
       "    <tr>\n",
       "      <th>0</th>\n",
       "      <td>LR - Elastic</td>\n",
       "      <td>0.00</td>\n",
       "      <td>486.61</td>\n",
       "      <td>22.06</td>\n",
       "      <td>17.54</td>\n",
       "      <td>8.71</td>\n",
       "    </tr>\n",
       "    <tr>\n",
       "      <th>0</th>\n",
       "      <td>LR - Lasso</td>\n",
       "      <td>-0.00</td>\n",
       "      <td>486.96</td>\n",
       "      <td>22.07</td>\n",
       "      <td>17.55</td>\n",
       "      <td>8.71</td>\n",
       "    </tr>\n",
       "    <tr>\n",
       "      <th>0</th>\n",
       "      <td>Decision Tree</td>\n",
       "      <td>-0.24</td>\n",
       "      <td>603.81</td>\n",
       "      <td>24.57</td>\n",
       "      <td>16.87</td>\n",
       "      <td>6.33</td>\n",
       "    </tr>\n",
       "    <tr>\n",
       "      <th>0</th>\n",
       "      <td>RANSAC</td>\n",
       "      <td>-0.86</td>\n",
       "      <td>906.18</td>\n",
       "      <td>30.10</td>\n",
       "      <td>23.58</td>\n",
       "      <td>8.77</td>\n",
       "    </tr>\n",
       "  </tbody>\n",
       "</table>\n",
       "</div>"
      ],
      "text/plain": [
       "                   Model    R²    MSE  RMSE   MAE  MAPE\n",
       "0          Random Forest  0.35 315.85 17.77 13.05  6.51\n",
       "0  Polynomial Regression  0.09 443.04 21.05 16.72  8.24\n",
       "0     Polynomial - Ridge  0.09 443.49 21.06 16.73  8.29\n",
       "0      Linear Regression  0.05 461.43 21.48 17.13  8.52\n",
       "0             LR - Ridge  0.05 461.45 21.48 17.13  8.52\n",
       "0   Polynomial - Elastic  0.01 481.70 21.95 17.43  8.75\n",
       "0     Polynomial - Lasso  0.01 482.82 21.97 17.46  8.76\n",
       "0           LR - Elastic  0.00 486.61 22.06 17.54  8.71\n",
       "0             LR - Lasso -0.00 486.96 22.07 17.55  8.71\n",
       "0          Decision Tree -0.24 603.81 24.57 16.87  6.33\n",
       "0                 RANSAC -0.86 906.18 30.10 23.58  8.77"
      ]
     },
     "metadata": {},
     "output_type": "display_data"
    }
   ],
   "source": [
    "lr_metrics = model_avaliation( 'Linear Regression', y_test, y_pred_lr )\n",
    "tree_metrics = model_avaliation( 'Decision Tree', y_test, y_pred_tree )\n",
    "rf_metrics = model_avaliation( 'Random Forest', y_test, y_pred_rf )\n",
    "poly_metrics = model_avaliation( 'Polynomial Regression', y_test, y_pred_poly )\n",
    "ransac_metrics = model_avaliation( 'RANSAC', y_test, y_pred_ransac )\n",
    "lr_lasso_metrics = model_avaliation( 'LR - Lasso', y_test, y_pred_lr_lasso )\n",
    "lr_ridge_metrics = model_avaliation( 'LR - Ridge', y_test, y_pred_lr_ridge )\n",
    "lr_elastic_metrics = model_avaliation( 'LR - Elastic', y_test, y_pred_lr_elastic )\n",
    "poly_lasso_metrics = model_avaliation( 'Polynomial - Lasso', y_test, y_pred_poly_lasso )\n",
    "poly_ridge_metrics = model_avaliation( 'Polynomial - Ridge', y_test, y_pred_poly_ridge )\n",
    "poly_elastic_metrics = model_avaliation( 'Polynomial - Elastic', y_test, y_pred_poly_elastic)\n",
    "\n",
    "\n",
    "metrics = pd.concat([lr_metrics, tree_metrics, rf_metrics, poly_metrics, ransac_metrics,\n",
    "                     lr_lasso_metrics, lr_ridge_metrics, lr_elastic_metrics,\n",
    "                     poly_lasso_metrics, poly_ridge_metrics, poly_elastic_metrics])\n",
    "\n",
    "display( metrics.sort_values( by='R²', ascending=False ) )"
   ]
  },
  {
   "cell_type": "markdown",
   "metadata": {},
   "source": [
    "### 2.2 Buscando os Melhores Parâmetros e Treino + Validação + Teste"
   ]
  },
  {
   "cell_type": "markdown",
   "metadata": {},
   "source": [
    "#### Decision Tree"
   ]
  },
  {
   "cell_type": "code",
   "execution_count": 46,
   "metadata": {},
   "outputs": [
    {
     "data": {
      "text/html": [
       "<style>#sk-container-id-2 {color: black;background-color: white;}#sk-container-id-2 pre{padding: 0;}#sk-container-id-2 div.sk-toggleable {background-color: white;}#sk-container-id-2 label.sk-toggleable__label {cursor: pointer;display: block;width: 100%;margin-bottom: 0;padding: 0.3em;box-sizing: border-box;text-align: center;}#sk-container-id-2 label.sk-toggleable__label-arrow:before {content: \"▸\";float: left;margin-right: 0.25em;color: #696969;}#sk-container-id-2 label.sk-toggleable__label-arrow:hover:before {color: black;}#sk-container-id-2 div.sk-estimator:hover label.sk-toggleable__label-arrow:before {color: black;}#sk-container-id-2 div.sk-toggleable__content {max-height: 0;max-width: 0;overflow: hidden;text-align: left;background-color: #f0f8ff;}#sk-container-id-2 div.sk-toggleable__content pre {margin: 0.2em;color: black;border-radius: 0.25em;background-color: #f0f8ff;}#sk-container-id-2 input.sk-toggleable__control:checked~div.sk-toggleable__content {max-height: 200px;max-width: 100%;overflow: auto;}#sk-container-id-2 input.sk-toggleable__control:checked~label.sk-toggleable__label-arrow:before {content: \"▾\";}#sk-container-id-2 div.sk-estimator input.sk-toggleable__control:checked~label.sk-toggleable__label {background-color: #d4ebff;}#sk-container-id-2 div.sk-label input.sk-toggleable__control:checked~label.sk-toggleable__label {background-color: #d4ebff;}#sk-container-id-2 input.sk-hidden--visually {border: 0;clip: rect(1px 1px 1px 1px);clip: rect(1px, 1px, 1px, 1px);height: 1px;margin: -1px;overflow: hidden;padding: 0;position: absolute;width: 1px;}#sk-container-id-2 div.sk-estimator {font-family: monospace;background-color: #f0f8ff;border: 1px dotted black;border-radius: 0.25em;box-sizing: border-box;margin-bottom: 0.5em;}#sk-container-id-2 div.sk-estimator:hover {background-color: #d4ebff;}#sk-container-id-2 div.sk-parallel-item::after {content: \"\";width: 100%;border-bottom: 1px solid gray;flex-grow: 1;}#sk-container-id-2 div.sk-label:hover label.sk-toggleable__label {background-color: #d4ebff;}#sk-container-id-2 div.sk-serial::before {content: \"\";position: absolute;border-left: 1px solid gray;box-sizing: border-box;top: 0;bottom: 0;left: 50%;z-index: 0;}#sk-container-id-2 div.sk-serial {display: flex;flex-direction: column;align-items: center;background-color: white;padding-right: 0.2em;padding-left: 0.2em;position: relative;}#sk-container-id-2 div.sk-item {position: relative;z-index: 1;}#sk-container-id-2 div.sk-parallel {display: flex;align-items: stretch;justify-content: center;background-color: white;position: relative;}#sk-container-id-2 div.sk-item::before, #sk-container-id-2 div.sk-parallel-item::before {content: \"\";position: absolute;border-left: 1px solid gray;box-sizing: border-box;top: 0;bottom: 0;left: 50%;z-index: -1;}#sk-container-id-2 div.sk-parallel-item {display: flex;flex-direction: column;z-index: 1;position: relative;background-color: white;}#sk-container-id-2 div.sk-parallel-item:first-child::after {align-self: flex-end;width: 50%;}#sk-container-id-2 div.sk-parallel-item:last-child::after {align-self: flex-start;width: 50%;}#sk-container-id-2 div.sk-parallel-item:only-child::after {width: 0;}#sk-container-id-2 div.sk-dashed-wrapped {border: 1px dashed gray;margin: 0 0.4em 0.5em 0.4em;box-sizing: border-box;padding-bottom: 0.4em;background-color: white;}#sk-container-id-2 div.sk-label label {font-family: monospace;font-weight: bold;display: inline-block;line-height: 1.2em;}#sk-container-id-2 div.sk-label-container {text-align: center;}#sk-container-id-2 div.sk-container {/* jupyter's `normalize.less` sets `[hidden] { display: none; }` but bootstrap.min.css set `[hidden] { display: none !important; }` so we also need the `!important` here to be able to override the default hidden behavior on the sphinx rendered scikit-learn.org. See: https://github.com/scikit-learn/scikit-learn/issues/21755 */display: inline-block !important;position: relative;}#sk-container-id-2 div.sk-text-repr-fallback {display: none;}</style><div id=\"sk-container-id-2\" class=\"sk-top-container\"><div class=\"sk-text-repr-fallback\"><pre>GridSearchCV(cv=3,\n",
       "             estimator=DecisionTreeRegressor(max_depth=5, min_samples_leaf=50,\n",
       "                                             random_state=42),\n",
       "             param_grid={&#x27;max_depth&#x27;: [2, 5, 10, 20, 50],\n",
       "                         &#x27;min_samples_leaf&#x27;: [25, 50, 100, 200, 500, 800]},\n",
       "             scoring=&#x27;r2&#x27;)</pre><b>In a Jupyter environment, please rerun this cell to show the HTML representation or trust the notebook. <br />On GitHub, the HTML representation is unable to render, please try loading this page with nbviewer.org.</b></div><div class=\"sk-container\" hidden><div class=\"sk-item sk-dashed-wrapped\"><div class=\"sk-label-container\"><div class=\"sk-label sk-toggleable\"><input class=\"sk-toggleable__control sk-hidden--visually\" id=\"sk-estimator-id-4\" type=\"checkbox\" ><label for=\"sk-estimator-id-4\" class=\"sk-toggleable__label sk-toggleable__label-arrow\">GridSearchCV</label><div class=\"sk-toggleable__content\"><pre>GridSearchCV(cv=3,\n",
       "             estimator=DecisionTreeRegressor(max_depth=5, min_samples_leaf=50,\n",
       "                                             random_state=42),\n",
       "             param_grid={&#x27;max_depth&#x27;: [2, 5, 10, 20, 50],\n",
       "                         &#x27;min_samples_leaf&#x27;: [25, 50, 100, 200, 500, 800]},\n",
       "             scoring=&#x27;r2&#x27;)</pre></div></div></div><div class=\"sk-parallel\"><div class=\"sk-parallel-item\"><div class=\"sk-item\"><div class=\"sk-label-container\"><div class=\"sk-label sk-toggleable\"><input class=\"sk-toggleable__control sk-hidden--visually\" id=\"sk-estimator-id-5\" type=\"checkbox\" ><label for=\"sk-estimator-id-5\" class=\"sk-toggleable__label sk-toggleable__label-arrow\">estimator: DecisionTreeRegressor</label><div class=\"sk-toggleable__content\"><pre>DecisionTreeRegressor(max_depth=5, min_samples_leaf=50, random_state=42)</pre></div></div></div><div class=\"sk-serial\"><div class=\"sk-item\"><div class=\"sk-estimator sk-toggleable\"><input class=\"sk-toggleable__control sk-hidden--visually\" id=\"sk-estimator-id-6\" type=\"checkbox\" ><label for=\"sk-estimator-id-6\" class=\"sk-toggleable__label sk-toggleable__label-arrow\">DecisionTreeRegressor</label><div class=\"sk-toggleable__content\"><pre>DecisionTreeRegressor(max_depth=5, min_samples_leaf=50, random_state=42)</pre></div></div></div></div></div></div></div></div></div></div>"
      ],
      "text/plain": [
       "GridSearchCV(cv=3,\n",
       "             estimator=DecisionTreeRegressor(max_depth=5, min_samples_leaf=50,\n",
       "                                             random_state=42),\n",
       "             param_grid={'max_depth': [2, 5, 10, 20, 50],\n",
       "                         'min_samples_leaf': [25, 50, 100, 200, 500, 800]},\n",
       "             scoring='r2')"
      ]
     },
     "execution_count": 46,
     "metadata": {},
     "output_type": "execute_result"
    }
   ],
   "source": [
    "tree_model = DecisionTreeRegressor( max_depth=5, min_samples_leaf=50, random_state=42 )\n",
    "\n",
    "params = {\"max_depth\": [2, 5, 10, 20, 50], \n",
    "          \"min_samples_leaf\": [25, 50, 100, 200, 500, 800]}\n",
    "\n",
    "tree_grid = GridSearchCV(tree_model, params, cv=3, verbose=0, scoring='r2')\n",
    "\n",
    "tree_grid.fit(X_train, y_train)"
   ]
  },
  {
   "cell_type": "code",
   "execution_count": 47,
   "metadata": {},
   "outputs": [
    {
     "name": "stdout",
     "output_type": "stream",
     "text": [
      "Decision Tree - Best Parameters: {'max_depth': 10, 'min_samples_leaf': 100}\n"
     ]
    },
    {
     "data": {
      "text/html": [
       "<div>\n",
       "<style scoped>\n",
       "    .dataframe tbody tr th:only-of-type {\n",
       "        vertical-align: middle;\n",
       "    }\n",
       "\n",
       "    .dataframe tbody tr th {\n",
       "        vertical-align: top;\n",
       "    }\n",
       "\n",
       "    .dataframe thead th {\n",
       "        text-align: right;\n",
       "    }\n",
       "</style>\n",
       "<table border=\"1\" class=\"dataframe\">\n",
       "  <thead>\n",
       "    <tr style=\"text-align: right;\">\n",
       "      <th></th>\n",
       "      <th>Model</th>\n",
       "      <th>R²</th>\n",
       "      <th>MSE</th>\n",
       "      <th>RMSE</th>\n",
       "      <th>MAE</th>\n",
       "      <th>MAPE</th>\n",
       "    </tr>\n",
       "  </thead>\n",
       "  <tbody>\n",
       "    <tr>\n",
       "      <th>0</th>\n",
       "      <td>Decision Tree - Grid Search</td>\n",
       "      <td>0.08</td>\n",
       "      <td>441.14</td>\n",
       "      <td>21.00</td>\n",
       "      <td>16.75</td>\n",
       "      <td>8.35</td>\n",
       "    </tr>\n",
       "  </tbody>\n",
       "</table>\n",
       "</div>"
      ],
      "text/plain": [
       "                         Model   R²    MSE  RMSE   MAE  MAPE\n",
       "0  Decision Tree - Grid Search 0.08 441.14 21.00 16.75  8.35"
      ]
     },
     "metadata": {},
     "output_type": "display_data"
    }
   ],
   "source": [
    "y_pred_tree_grid = tree_grid.predict( X_val )\n",
    "\n",
    "tree_grid_metrics = model_avaliation( 'Decision Tree - Grid Search', y_val, y_pred_tree_grid )\n",
    "\n",
    "print( f\"Decision Tree - Best Parameters: {tree_grid.best_params_}\" )\n",
    "display( tree_grid_metrics )"
   ]
  },
  {
   "cell_type": "markdown",
   "metadata": {},
   "source": [
    "#### Random Forest"
   ]
  },
  {
   "cell_type": "code",
   "execution_count": 48,
   "metadata": {},
   "outputs": [
    {
     "data": {
      "text/html": [
       "<style>#sk-container-id-3 {color: black;background-color: white;}#sk-container-id-3 pre{padding: 0;}#sk-container-id-3 div.sk-toggleable {background-color: white;}#sk-container-id-3 label.sk-toggleable__label {cursor: pointer;display: block;width: 100%;margin-bottom: 0;padding: 0.3em;box-sizing: border-box;text-align: center;}#sk-container-id-3 label.sk-toggleable__label-arrow:before {content: \"▸\";float: left;margin-right: 0.25em;color: #696969;}#sk-container-id-3 label.sk-toggleable__label-arrow:hover:before {color: black;}#sk-container-id-3 div.sk-estimator:hover label.sk-toggleable__label-arrow:before {color: black;}#sk-container-id-3 div.sk-toggleable__content {max-height: 0;max-width: 0;overflow: hidden;text-align: left;background-color: #f0f8ff;}#sk-container-id-3 div.sk-toggleable__content pre {margin: 0.2em;color: black;border-radius: 0.25em;background-color: #f0f8ff;}#sk-container-id-3 input.sk-toggleable__control:checked~div.sk-toggleable__content {max-height: 200px;max-width: 100%;overflow: auto;}#sk-container-id-3 input.sk-toggleable__control:checked~label.sk-toggleable__label-arrow:before {content: \"▾\";}#sk-container-id-3 div.sk-estimator input.sk-toggleable__control:checked~label.sk-toggleable__label {background-color: #d4ebff;}#sk-container-id-3 div.sk-label input.sk-toggleable__control:checked~label.sk-toggleable__label {background-color: #d4ebff;}#sk-container-id-3 input.sk-hidden--visually {border: 0;clip: rect(1px 1px 1px 1px);clip: rect(1px, 1px, 1px, 1px);height: 1px;margin: -1px;overflow: hidden;padding: 0;position: absolute;width: 1px;}#sk-container-id-3 div.sk-estimator {font-family: monospace;background-color: #f0f8ff;border: 1px dotted black;border-radius: 0.25em;box-sizing: border-box;margin-bottom: 0.5em;}#sk-container-id-3 div.sk-estimator:hover {background-color: #d4ebff;}#sk-container-id-3 div.sk-parallel-item::after {content: \"\";width: 100%;border-bottom: 1px solid gray;flex-grow: 1;}#sk-container-id-3 div.sk-label:hover label.sk-toggleable__label {background-color: #d4ebff;}#sk-container-id-3 div.sk-serial::before {content: \"\";position: absolute;border-left: 1px solid gray;box-sizing: border-box;top: 0;bottom: 0;left: 50%;z-index: 0;}#sk-container-id-3 div.sk-serial {display: flex;flex-direction: column;align-items: center;background-color: white;padding-right: 0.2em;padding-left: 0.2em;position: relative;}#sk-container-id-3 div.sk-item {position: relative;z-index: 1;}#sk-container-id-3 div.sk-parallel {display: flex;align-items: stretch;justify-content: center;background-color: white;position: relative;}#sk-container-id-3 div.sk-item::before, #sk-container-id-3 div.sk-parallel-item::before {content: \"\";position: absolute;border-left: 1px solid gray;box-sizing: border-box;top: 0;bottom: 0;left: 50%;z-index: -1;}#sk-container-id-3 div.sk-parallel-item {display: flex;flex-direction: column;z-index: 1;position: relative;background-color: white;}#sk-container-id-3 div.sk-parallel-item:first-child::after {align-self: flex-end;width: 50%;}#sk-container-id-3 div.sk-parallel-item:last-child::after {align-self: flex-start;width: 50%;}#sk-container-id-3 div.sk-parallel-item:only-child::after {width: 0;}#sk-container-id-3 div.sk-dashed-wrapped {border: 1px dashed gray;margin: 0 0.4em 0.5em 0.4em;box-sizing: border-box;padding-bottom: 0.4em;background-color: white;}#sk-container-id-3 div.sk-label label {font-family: monospace;font-weight: bold;display: inline-block;line-height: 1.2em;}#sk-container-id-3 div.sk-label-container {text-align: center;}#sk-container-id-3 div.sk-container {/* jupyter's `normalize.less` sets `[hidden] { display: none; }` but bootstrap.min.css set `[hidden] { display: none !important; }` so we also need the `!important` here to be able to override the default hidden behavior on the sphinx rendered scikit-learn.org. See: https://github.com/scikit-learn/scikit-learn/issues/21755 */display: inline-block !important;position: relative;}#sk-container-id-3 div.sk-text-repr-fallback {display: none;}</style><div id=\"sk-container-id-3\" class=\"sk-top-container\"><div class=\"sk-text-repr-fallback\"><pre>GridSearchCV(cv=3,\n",
       "             estimator=RandomForestRegressor(max_depth=5, min_samples_leaf=50,\n",
       "                                             n_estimators=300,\n",
       "                                             random_state=42),\n",
       "             param_grid={&#x27;min_samples_leaf&#x27;: [5, 10, 20, 50, 100],\n",
       "                         &#x27;n_estimators&#x27;: [50, 100, 200, 300, 500]},\n",
       "             scoring=&#x27;r2&#x27;)</pre><b>In a Jupyter environment, please rerun this cell to show the HTML representation or trust the notebook. <br />On GitHub, the HTML representation is unable to render, please try loading this page with nbviewer.org.</b></div><div class=\"sk-container\" hidden><div class=\"sk-item sk-dashed-wrapped\"><div class=\"sk-label-container\"><div class=\"sk-label sk-toggleable\"><input class=\"sk-toggleable__control sk-hidden--visually\" id=\"sk-estimator-id-7\" type=\"checkbox\" ><label for=\"sk-estimator-id-7\" class=\"sk-toggleable__label sk-toggleable__label-arrow\">GridSearchCV</label><div class=\"sk-toggleable__content\"><pre>GridSearchCV(cv=3,\n",
       "             estimator=RandomForestRegressor(max_depth=5, min_samples_leaf=50,\n",
       "                                             n_estimators=300,\n",
       "                                             random_state=42),\n",
       "             param_grid={&#x27;min_samples_leaf&#x27;: [5, 10, 20, 50, 100],\n",
       "                         &#x27;n_estimators&#x27;: [50, 100, 200, 300, 500]},\n",
       "             scoring=&#x27;r2&#x27;)</pre></div></div></div><div class=\"sk-parallel\"><div class=\"sk-parallel-item\"><div class=\"sk-item\"><div class=\"sk-label-container\"><div class=\"sk-label sk-toggleable\"><input class=\"sk-toggleable__control sk-hidden--visually\" id=\"sk-estimator-id-8\" type=\"checkbox\" ><label for=\"sk-estimator-id-8\" class=\"sk-toggleable__label sk-toggleable__label-arrow\">estimator: RandomForestRegressor</label><div class=\"sk-toggleable__content\"><pre>RandomForestRegressor(max_depth=5, min_samples_leaf=50, n_estimators=300,\n",
       "                      random_state=42)</pre></div></div></div><div class=\"sk-serial\"><div class=\"sk-item\"><div class=\"sk-estimator sk-toggleable\"><input class=\"sk-toggleable__control sk-hidden--visually\" id=\"sk-estimator-id-9\" type=\"checkbox\" ><label for=\"sk-estimator-id-9\" class=\"sk-toggleable__label sk-toggleable__label-arrow\">RandomForestRegressor</label><div class=\"sk-toggleable__content\"><pre>RandomForestRegressor(max_depth=5, min_samples_leaf=50, n_estimators=300,\n",
       "                      random_state=42)</pre></div></div></div></div></div></div></div></div></div></div>"
      ],
      "text/plain": [
       "GridSearchCV(cv=3,\n",
       "             estimator=RandomForestRegressor(max_depth=5, min_samples_leaf=50,\n",
       "                                             n_estimators=300,\n",
       "                                             random_state=42),\n",
       "             param_grid={'min_samples_leaf': [5, 10, 20, 50, 100],\n",
       "                         'n_estimators': [50, 100, 200, 300, 500]},\n",
       "             scoring='r2')"
      ]
     },
     "execution_count": 48,
     "metadata": {},
     "output_type": "execute_result"
    }
   ],
   "source": [
    "rf_model = RandomForestRegressor( n_estimators=300, max_depth=5, min_samples_leaf=50, random_state=42 )\n",
    "\n",
    "params = {\"n_estimators\": [50, 100, 200, 300, 500], \n",
    "          \"min_samples_leaf\": [5, 10, 20, 50, 100]}\n",
    "\n",
    "rf_grid = GridSearchCV(rf_model, params, cv=3, verbose=0, scoring='r2')\n",
    "\n",
    "rf_grid.fit(X_train, y_train)"
   ]
  },
  {
   "cell_type": "code",
   "execution_count": 49,
   "metadata": {},
   "outputs": [
    {
     "name": "stdout",
     "output_type": "stream",
     "text": [
      "Random Forest - Best Parameters: {'min_samples_leaf': 5, 'n_estimators': 50}\n"
     ]
    },
    {
     "data": {
      "text/html": [
       "<div>\n",
       "<style scoped>\n",
       "    .dataframe tbody tr th:only-of-type {\n",
       "        vertical-align: middle;\n",
       "    }\n",
       "\n",
       "    .dataframe tbody tr th {\n",
       "        vertical-align: top;\n",
       "    }\n",
       "\n",
       "    .dataframe thead th {\n",
       "        text-align: right;\n",
       "    }\n",
       "</style>\n",
       "<table border=\"1\" class=\"dataframe\">\n",
       "  <thead>\n",
       "    <tr style=\"text-align: right;\">\n",
       "      <th></th>\n",
       "      <th>Model</th>\n",
       "      <th>R²</th>\n",
       "      <th>MSE</th>\n",
       "      <th>RMSE</th>\n",
       "      <th>MAE</th>\n",
       "      <th>MAPE</th>\n",
       "    </tr>\n",
       "  </thead>\n",
       "  <tbody>\n",
       "    <tr>\n",
       "      <th>0</th>\n",
       "      <td>Random Forest - Grid Search</td>\n",
       "      <td>0.10</td>\n",
       "      <td>430.80</td>\n",
       "      <td>20.76</td>\n",
       "      <td>16.51</td>\n",
       "      <td>8.41</td>\n",
       "    </tr>\n",
       "  </tbody>\n",
       "</table>\n",
       "</div>"
      ],
      "text/plain": [
       "                         Model   R²    MSE  RMSE   MAE  MAPE\n",
       "0  Random Forest - Grid Search 0.10 430.80 20.76 16.51  8.41"
      ]
     },
     "metadata": {},
     "output_type": "display_data"
    }
   ],
   "source": [
    "y_pred_rf_grid = rf_grid.predict( X_val )\n",
    "\n",
    "rf_grid_metrics = model_avaliation( 'Random Forest - Grid Search', y_val, y_pred_rf_grid )\n",
    "\n",
    "print( f\"Random Forest - Best Parameters: {rf_grid.best_params_}\" )\n",
    "display( rf_grid_metrics )"
   ]
  },
  {
   "cell_type": "markdown",
   "metadata": {},
   "source": [
    "#### Polynomial Regression"
   ]
  },
  {
   "cell_type": "code",
   "execution_count": 50,
   "metadata": {},
   "outputs": [],
   "source": [
    "degrees = np.arange(1, 4, 1)\n",
    "poly_tunning_metrics = pd.DataFrame()\n",
    "\n",
    "for d in degrees:\n",
    "    poly = PolynomialFeatures( degree = d )\n",
    "    X_val_poly   = poly.fit_transform( X_val )\n",
    "    X_train_poly = poly.fit_transform( X_train )\n",
    "\n",
    "    model = LinearRegression()\n",
    "    model.fit( X_train_poly, y_train )\n",
    "\n",
    "    y_pred = model.predict( X_val_poly ) \n",
    "\n",
    "    text = f\"Polynomial - Degree {d}\"\n",
    "\n",
    "    loop_metrics = model_avaliation( text, y_val, y_pred )\n",
    "\n",
    "    poly_tunning_metrics = pd.concat( [poly_tunning_metrics, loop_metrics] )"
   ]
  },
  {
   "cell_type": "code",
   "execution_count": 51,
   "metadata": {},
   "outputs": [
    {
     "data": {
      "text/html": [
       "<div>\n",
       "<style scoped>\n",
       "    .dataframe tbody tr th:only-of-type {\n",
       "        vertical-align: middle;\n",
       "    }\n",
       "\n",
       "    .dataframe tbody tr th {\n",
       "        vertical-align: top;\n",
       "    }\n",
       "\n",
       "    .dataframe thead th {\n",
       "        text-align: right;\n",
       "    }\n",
       "</style>\n",
       "<table border=\"1\" class=\"dataframe\">\n",
       "  <thead>\n",
       "    <tr style=\"text-align: right;\">\n",
       "      <th></th>\n",
       "      <th>Model</th>\n",
       "      <th>R²</th>\n",
       "      <th>MSE</th>\n",
       "      <th>RMSE</th>\n",
       "      <th>MAE</th>\n",
       "      <th>MAPE</th>\n",
       "    </tr>\n",
       "  </thead>\n",
       "  <tbody>\n",
       "    <tr>\n",
       "      <th>0</th>\n",
       "      <td>Polynomial - Degree 2</td>\n",
       "      <td>0.07</td>\n",
       "      <td>445.77</td>\n",
       "      <td>21.11</td>\n",
       "      <td>16.75</td>\n",
       "      <td>8.55</td>\n",
       "    </tr>\n",
       "    <tr>\n",
       "      <th>0</th>\n",
       "      <td>Polynomial - Degree 1</td>\n",
       "      <td>0.04</td>\n",
       "      <td>458.45</td>\n",
       "      <td>21.41</td>\n",
       "      <td>17.04</td>\n",
       "      <td>8.68</td>\n",
       "    </tr>\n",
       "    <tr>\n",
       "      <th>0</th>\n",
       "      <td>Polynomial - Degree 3</td>\n",
       "      <td>-0.05</td>\n",
       "      <td>500.33</td>\n",
       "      <td>22.37</td>\n",
       "      <td>17.09</td>\n",
       "      <td>8.68</td>\n",
       "    </tr>\n",
       "  </tbody>\n",
       "</table>\n",
       "</div>"
      ],
      "text/plain": [
       "                   Model    R²    MSE  RMSE   MAE  MAPE\n",
       "0  Polynomial - Degree 2  0.07 445.77 21.11 16.75  8.55\n",
       "0  Polynomial - Degree 1  0.04 458.45 21.41 17.04  8.68\n",
       "0  Polynomial - Degree 3 -0.05 500.33 22.37 17.09  8.68"
      ]
     },
     "metadata": {},
     "output_type": "display_data"
    }
   ],
   "source": [
    "poly_tunning_metrics = poly_tunning_metrics.sort_values( by='R²', ascending=False )\n",
    "display( poly_tunning_metrics )\n",
    "poly_grid_metrics = poly_tunning_metrics.head( 1 )"
   ]
  },
  {
   "cell_type": "markdown",
   "metadata": {},
   "source": [
    "#### RANSAC"
   ]
  },
  {
   "cell_type": "code",
   "execution_count": 52,
   "metadata": {},
   "outputs": [
    {
     "data": {
      "text/html": [
       "<style>#sk-container-id-4 {color: black;background-color: white;}#sk-container-id-4 pre{padding: 0;}#sk-container-id-4 div.sk-toggleable {background-color: white;}#sk-container-id-4 label.sk-toggleable__label {cursor: pointer;display: block;width: 100%;margin-bottom: 0;padding: 0.3em;box-sizing: border-box;text-align: center;}#sk-container-id-4 label.sk-toggleable__label-arrow:before {content: \"▸\";float: left;margin-right: 0.25em;color: #696969;}#sk-container-id-4 label.sk-toggleable__label-arrow:hover:before {color: black;}#sk-container-id-4 div.sk-estimator:hover label.sk-toggleable__label-arrow:before {color: black;}#sk-container-id-4 div.sk-toggleable__content {max-height: 0;max-width: 0;overflow: hidden;text-align: left;background-color: #f0f8ff;}#sk-container-id-4 div.sk-toggleable__content pre {margin: 0.2em;color: black;border-radius: 0.25em;background-color: #f0f8ff;}#sk-container-id-4 input.sk-toggleable__control:checked~div.sk-toggleable__content {max-height: 200px;max-width: 100%;overflow: auto;}#sk-container-id-4 input.sk-toggleable__control:checked~label.sk-toggleable__label-arrow:before {content: \"▾\";}#sk-container-id-4 div.sk-estimator input.sk-toggleable__control:checked~label.sk-toggleable__label {background-color: #d4ebff;}#sk-container-id-4 div.sk-label input.sk-toggleable__control:checked~label.sk-toggleable__label {background-color: #d4ebff;}#sk-container-id-4 input.sk-hidden--visually {border: 0;clip: rect(1px 1px 1px 1px);clip: rect(1px, 1px, 1px, 1px);height: 1px;margin: -1px;overflow: hidden;padding: 0;position: absolute;width: 1px;}#sk-container-id-4 div.sk-estimator {font-family: monospace;background-color: #f0f8ff;border: 1px dotted black;border-radius: 0.25em;box-sizing: border-box;margin-bottom: 0.5em;}#sk-container-id-4 div.sk-estimator:hover {background-color: #d4ebff;}#sk-container-id-4 div.sk-parallel-item::after {content: \"\";width: 100%;border-bottom: 1px solid gray;flex-grow: 1;}#sk-container-id-4 div.sk-label:hover label.sk-toggleable__label {background-color: #d4ebff;}#sk-container-id-4 div.sk-serial::before {content: \"\";position: absolute;border-left: 1px solid gray;box-sizing: border-box;top: 0;bottom: 0;left: 50%;z-index: 0;}#sk-container-id-4 div.sk-serial {display: flex;flex-direction: column;align-items: center;background-color: white;padding-right: 0.2em;padding-left: 0.2em;position: relative;}#sk-container-id-4 div.sk-item {position: relative;z-index: 1;}#sk-container-id-4 div.sk-parallel {display: flex;align-items: stretch;justify-content: center;background-color: white;position: relative;}#sk-container-id-4 div.sk-item::before, #sk-container-id-4 div.sk-parallel-item::before {content: \"\";position: absolute;border-left: 1px solid gray;box-sizing: border-box;top: 0;bottom: 0;left: 50%;z-index: -1;}#sk-container-id-4 div.sk-parallel-item {display: flex;flex-direction: column;z-index: 1;position: relative;background-color: white;}#sk-container-id-4 div.sk-parallel-item:first-child::after {align-self: flex-end;width: 50%;}#sk-container-id-4 div.sk-parallel-item:last-child::after {align-self: flex-start;width: 50%;}#sk-container-id-4 div.sk-parallel-item:only-child::after {width: 0;}#sk-container-id-4 div.sk-dashed-wrapped {border: 1px dashed gray;margin: 0 0.4em 0.5em 0.4em;box-sizing: border-box;padding-bottom: 0.4em;background-color: white;}#sk-container-id-4 div.sk-label label {font-family: monospace;font-weight: bold;display: inline-block;line-height: 1.2em;}#sk-container-id-4 div.sk-label-container {text-align: center;}#sk-container-id-4 div.sk-container {/* jupyter's `normalize.less` sets `[hidden] { display: none; }` but bootstrap.min.css set `[hidden] { display: none !important; }` so we also need the `!important` here to be able to override the default hidden behavior on the sphinx rendered scikit-learn.org. See: https://github.com/scikit-learn/scikit-learn/issues/21755 */display: inline-block !important;position: relative;}#sk-container-id-4 div.sk-text-repr-fallback {display: none;}</style><div id=\"sk-container-id-4\" class=\"sk-top-container\"><div class=\"sk-text-repr-fallback\"><pre>GridSearchCV(cv=3,\n",
       "             estimator=RANSACRegressor(min_samples=50, random_state=42,\n",
       "                                       residual_threshold=5.0),\n",
       "             param_grid={&#x27;max_trials&#x27;: [50, 100, 200],\n",
       "                         &#x27;min_samples&#x27;: [50, 100, 200],\n",
       "                         &#x27;residual_threshold&#x27;: [2.5, 5.0]},\n",
       "             scoring=&#x27;r2&#x27;)</pre><b>In a Jupyter environment, please rerun this cell to show the HTML representation or trust the notebook. <br />On GitHub, the HTML representation is unable to render, please try loading this page with nbviewer.org.</b></div><div class=\"sk-container\" hidden><div class=\"sk-item sk-dashed-wrapped\"><div class=\"sk-label-container\"><div class=\"sk-label sk-toggleable\"><input class=\"sk-toggleable__control sk-hidden--visually\" id=\"sk-estimator-id-10\" type=\"checkbox\" ><label for=\"sk-estimator-id-10\" class=\"sk-toggleable__label sk-toggleable__label-arrow\">GridSearchCV</label><div class=\"sk-toggleable__content\"><pre>GridSearchCV(cv=3,\n",
       "             estimator=RANSACRegressor(min_samples=50, random_state=42,\n",
       "                                       residual_threshold=5.0),\n",
       "             param_grid={&#x27;max_trials&#x27;: [50, 100, 200],\n",
       "                         &#x27;min_samples&#x27;: [50, 100, 200],\n",
       "                         &#x27;residual_threshold&#x27;: [2.5, 5.0]},\n",
       "             scoring=&#x27;r2&#x27;)</pre></div></div></div><div class=\"sk-parallel\"><div class=\"sk-parallel-item\"><div class=\"sk-item\"><div class=\"sk-label-container\"><div class=\"sk-label sk-toggleable\"><input class=\"sk-toggleable__control sk-hidden--visually\" id=\"sk-estimator-id-11\" type=\"checkbox\" ><label for=\"sk-estimator-id-11\" class=\"sk-toggleable__label sk-toggleable__label-arrow\">estimator: RANSACRegressor</label><div class=\"sk-toggleable__content\"><pre>RANSACRegressor(min_samples=50, random_state=42, residual_threshold=5.0)</pre></div></div></div><div class=\"sk-serial\"><div class=\"sk-item\"><div class=\"sk-estimator sk-toggleable\"><input class=\"sk-toggleable__control sk-hidden--visually\" id=\"sk-estimator-id-12\" type=\"checkbox\" ><label for=\"sk-estimator-id-12\" class=\"sk-toggleable__label sk-toggleable__label-arrow\">RANSACRegressor</label><div class=\"sk-toggleable__content\"><pre>RANSACRegressor(min_samples=50, random_state=42, residual_threshold=5.0)</pre></div></div></div></div></div></div></div></div></div></div>"
      ],
      "text/plain": [
       "GridSearchCV(cv=3,\n",
       "             estimator=RANSACRegressor(min_samples=50, random_state=42,\n",
       "                                       residual_threshold=5.0),\n",
       "             param_grid={'max_trials': [50, 100, 200],\n",
       "                         'min_samples': [50, 100, 200],\n",
       "                         'residual_threshold': [2.5, 5.0]},\n",
       "             scoring='r2')"
      ]
     },
     "execution_count": 52,
     "metadata": {},
     "output_type": "execute_result"
    }
   ],
   "source": [
    "ransac_model = RANSACRegressor( max_trials=100, min_samples=50, residual_threshold=5.0, random_state=42 )\n",
    "\n",
    "params = {\"max_trials\": [50, 100, 200], \n",
    "          \"min_samples\": [50, 100, 200],\n",
    "          \"residual_threshold\": [2.5, 5.0]}\n",
    "\n",
    "ransac_grid = GridSearchCV(ransac_model, params, cv=3, verbose=0, scoring='r2')\n",
    "\n",
    "ransac_grid.fit(X_train, y_train)"
   ]
  },
  {
   "cell_type": "code",
   "execution_count": 53,
   "metadata": {},
   "outputs": [
    {
     "name": "stdout",
     "output_type": "stream",
     "text": [
      "Random Forest - Best Parameters: {'max_trials': 100, 'min_samples': 200, 'residual_threshold': 2.5}\n"
     ]
    },
    {
     "data": {
      "text/html": [
       "<div>\n",
       "<style scoped>\n",
       "    .dataframe tbody tr th:only-of-type {\n",
       "        vertical-align: middle;\n",
       "    }\n",
       "\n",
       "    .dataframe tbody tr th {\n",
       "        vertical-align: top;\n",
       "    }\n",
       "\n",
       "    .dataframe thead th {\n",
       "        text-align: right;\n",
       "    }\n",
       "</style>\n",
       "<table border=\"1\" class=\"dataframe\">\n",
       "  <thead>\n",
       "    <tr style=\"text-align: right;\">\n",
       "      <th></th>\n",
       "      <th>Model</th>\n",
       "      <th>R²</th>\n",
       "      <th>MSE</th>\n",
       "      <th>RMSE</th>\n",
       "      <th>MAE</th>\n",
       "      <th>MAPE</th>\n",
       "    </tr>\n",
       "  </thead>\n",
       "  <tbody>\n",
       "    <tr>\n",
       "      <th>0</th>\n",
       "      <td>RANSAC - Grid Search</td>\n",
       "      <td>0.00</td>\n",
       "      <td>477.12</td>\n",
       "      <td>21.84</td>\n",
       "      <td>17.19</td>\n",
       "      <td>8.92</td>\n",
       "    </tr>\n",
       "  </tbody>\n",
       "</table>\n",
       "</div>"
      ],
      "text/plain": [
       "                  Model   R²    MSE  RMSE   MAE  MAPE\n",
       "0  RANSAC - Grid Search 0.00 477.12 21.84 17.19  8.92"
      ]
     },
     "metadata": {},
     "output_type": "display_data"
    }
   ],
   "source": [
    "y_pred_ransac_grid = ransac_grid.predict( X_val )\n",
    "\n",
    "ransac_grid_metrics = model_avaliation( 'RANSAC - Grid Search', y_val, y_pred_ransac_grid )\n",
    "\n",
    "print( f\"Random Forest - Best Parameters: {ransac_grid.best_params_}\" )\n",
    "display( ransac_grid_metrics )"
   ]
  },
  {
   "cell_type": "markdown",
   "metadata": {},
   "source": [
    "#### Linear Regression - Lasso"
   ]
  },
  {
   "cell_type": "code",
   "execution_count": 54,
   "metadata": {},
   "outputs": [
    {
     "data": {
      "text/html": [
       "<style>#sk-container-id-5 {color: black;background-color: white;}#sk-container-id-5 pre{padding: 0;}#sk-container-id-5 div.sk-toggleable {background-color: white;}#sk-container-id-5 label.sk-toggleable__label {cursor: pointer;display: block;width: 100%;margin-bottom: 0;padding: 0.3em;box-sizing: border-box;text-align: center;}#sk-container-id-5 label.sk-toggleable__label-arrow:before {content: \"▸\";float: left;margin-right: 0.25em;color: #696969;}#sk-container-id-5 label.sk-toggleable__label-arrow:hover:before {color: black;}#sk-container-id-5 div.sk-estimator:hover label.sk-toggleable__label-arrow:before {color: black;}#sk-container-id-5 div.sk-toggleable__content {max-height: 0;max-width: 0;overflow: hidden;text-align: left;background-color: #f0f8ff;}#sk-container-id-5 div.sk-toggleable__content pre {margin: 0.2em;color: black;border-radius: 0.25em;background-color: #f0f8ff;}#sk-container-id-5 input.sk-toggleable__control:checked~div.sk-toggleable__content {max-height: 200px;max-width: 100%;overflow: auto;}#sk-container-id-5 input.sk-toggleable__control:checked~label.sk-toggleable__label-arrow:before {content: \"▾\";}#sk-container-id-5 div.sk-estimator input.sk-toggleable__control:checked~label.sk-toggleable__label {background-color: #d4ebff;}#sk-container-id-5 div.sk-label input.sk-toggleable__control:checked~label.sk-toggleable__label {background-color: #d4ebff;}#sk-container-id-5 input.sk-hidden--visually {border: 0;clip: rect(1px 1px 1px 1px);clip: rect(1px, 1px, 1px, 1px);height: 1px;margin: -1px;overflow: hidden;padding: 0;position: absolute;width: 1px;}#sk-container-id-5 div.sk-estimator {font-family: monospace;background-color: #f0f8ff;border: 1px dotted black;border-radius: 0.25em;box-sizing: border-box;margin-bottom: 0.5em;}#sk-container-id-5 div.sk-estimator:hover {background-color: #d4ebff;}#sk-container-id-5 div.sk-parallel-item::after {content: \"\";width: 100%;border-bottom: 1px solid gray;flex-grow: 1;}#sk-container-id-5 div.sk-label:hover label.sk-toggleable__label {background-color: #d4ebff;}#sk-container-id-5 div.sk-serial::before {content: \"\";position: absolute;border-left: 1px solid gray;box-sizing: border-box;top: 0;bottom: 0;left: 50%;z-index: 0;}#sk-container-id-5 div.sk-serial {display: flex;flex-direction: column;align-items: center;background-color: white;padding-right: 0.2em;padding-left: 0.2em;position: relative;}#sk-container-id-5 div.sk-item {position: relative;z-index: 1;}#sk-container-id-5 div.sk-parallel {display: flex;align-items: stretch;justify-content: center;background-color: white;position: relative;}#sk-container-id-5 div.sk-item::before, #sk-container-id-5 div.sk-parallel-item::before {content: \"\";position: absolute;border-left: 1px solid gray;box-sizing: border-box;top: 0;bottom: 0;left: 50%;z-index: -1;}#sk-container-id-5 div.sk-parallel-item {display: flex;flex-direction: column;z-index: 1;position: relative;background-color: white;}#sk-container-id-5 div.sk-parallel-item:first-child::after {align-self: flex-end;width: 50%;}#sk-container-id-5 div.sk-parallel-item:last-child::after {align-self: flex-start;width: 50%;}#sk-container-id-5 div.sk-parallel-item:only-child::after {width: 0;}#sk-container-id-5 div.sk-dashed-wrapped {border: 1px dashed gray;margin: 0 0.4em 0.5em 0.4em;box-sizing: border-box;padding-bottom: 0.4em;background-color: white;}#sk-container-id-5 div.sk-label label {font-family: monospace;font-weight: bold;display: inline-block;line-height: 1.2em;}#sk-container-id-5 div.sk-label-container {text-align: center;}#sk-container-id-5 div.sk-container {/* jupyter's `normalize.less` sets `[hidden] { display: none; }` but bootstrap.min.css set `[hidden] { display: none !important; }` so we also need the `!important` here to be able to override the default hidden behavior on the sphinx rendered scikit-learn.org. See: https://github.com/scikit-learn/scikit-learn/issues/21755 */display: inline-block !important;position: relative;}#sk-container-id-5 div.sk-text-repr-fallback {display: none;}</style><div id=\"sk-container-id-5\" class=\"sk-top-container\"><div class=\"sk-text-repr-fallback\"><pre>GridSearchCV(cv=3, estimator=Lasso(alpha=1),\n",
       "             param_grid={&#x27;alpha&#x27;: [0.5, 1, 5, 10, 20, 50],\n",
       "                         &#x27;max_iter&#x27;: [500, 1000, 2000, 5000]},\n",
       "             scoring=&#x27;r2&#x27;)</pre><b>In a Jupyter environment, please rerun this cell to show the HTML representation or trust the notebook. <br />On GitHub, the HTML representation is unable to render, please try loading this page with nbviewer.org.</b></div><div class=\"sk-container\" hidden><div class=\"sk-item sk-dashed-wrapped\"><div class=\"sk-label-container\"><div class=\"sk-label sk-toggleable\"><input class=\"sk-toggleable__control sk-hidden--visually\" id=\"sk-estimator-id-13\" type=\"checkbox\" ><label for=\"sk-estimator-id-13\" class=\"sk-toggleable__label sk-toggleable__label-arrow\">GridSearchCV</label><div class=\"sk-toggleable__content\"><pre>GridSearchCV(cv=3, estimator=Lasso(alpha=1),\n",
       "             param_grid={&#x27;alpha&#x27;: [0.5, 1, 5, 10, 20, 50],\n",
       "                         &#x27;max_iter&#x27;: [500, 1000, 2000, 5000]},\n",
       "             scoring=&#x27;r2&#x27;)</pre></div></div></div><div class=\"sk-parallel\"><div class=\"sk-parallel-item\"><div class=\"sk-item\"><div class=\"sk-label-container\"><div class=\"sk-label sk-toggleable\"><input class=\"sk-toggleable__control sk-hidden--visually\" id=\"sk-estimator-id-14\" type=\"checkbox\" ><label for=\"sk-estimator-id-14\" class=\"sk-toggleable__label sk-toggleable__label-arrow\">estimator: Lasso</label><div class=\"sk-toggleable__content\"><pre>Lasso(alpha=1)</pre></div></div></div><div class=\"sk-serial\"><div class=\"sk-item\"><div class=\"sk-estimator sk-toggleable\"><input class=\"sk-toggleable__control sk-hidden--visually\" id=\"sk-estimator-id-15\" type=\"checkbox\" ><label for=\"sk-estimator-id-15\" class=\"sk-toggleable__label sk-toggleable__label-arrow\">Lasso</label><div class=\"sk-toggleable__content\"><pre>Lasso(alpha=1)</pre></div></div></div></div></div></div></div></div></div></div>"
      ],
      "text/plain": [
       "GridSearchCV(cv=3, estimator=Lasso(alpha=1),\n",
       "             param_grid={'alpha': [0.5, 1, 5, 10, 20, 50],\n",
       "                         'max_iter': [500, 1000, 2000, 5000]},\n",
       "             scoring='r2')"
      ]
     },
     "execution_count": 54,
     "metadata": {},
     "output_type": "execute_result"
    }
   ],
   "source": [
    "lr_lasso_model = Lasso( alpha=1, max_iter=1000 )\n",
    "\n",
    "params = {\"alpha\": [0.5, 1, 5, 10, 20, 50], \n",
    "          \"max_iter\": [500, 1000, 2000, 5000]}\n",
    "\n",
    "lr_lasso_grid = GridSearchCV(lr_lasso_model, params, cv=3, verbose=0, scoring='r2')\n",
    "\n",
    "lr_lasso_grid.fit(X_train, y_train)"
   ]
  },
  {
   "cell_type": "code",
   "execution_count": 55,
   "metadata": {},
   "outputs": [
    {
     "name": "stdout",
     "output_type": "stream",
     "text": [
      "LR Lasso - Best Parameters: {'alpha': 0.5, 'max_iter': 500}\n"
     ]
    },
    {
     "data": {
      "text/html": [
       "<div>\n",
       "<style scoped>\n",
       "    .dataframe tbody tr th:only-of-type {\n",
       "        vertical-align: middle;\n",
       "    }\n",
       "\n",
       "    .dataframe tbody tr th {\n",
       "        vertical-align: top;\n",
       "    }\n",
       "\n",
       "    .dataframe thead th {\n",
       "        text-align: right;\n",
       "    }\n",
       "</style>\n",
       "<table border=\"1\" class=\"dataframe\">\n",
       "  <thead>\n",
       "    <tr style=\"text-align: right;\">\n",
       "      <th></th>\n",
       "      <th>Model</th>\n",
       "      <th>R²</th>\n",
       "      <th>MSE</th>\n",
       "      <th>RMSE</th>\n",
       "      <th>MAE</th>\n",
       "      <th>MAPE</th>\n",
       "    </tr>\n",
       "  </thead>\n",
       "  <tbody>\n",
       "    <tr>\n",
       "      <th>0</th>\n",
       "      <td>LR Lasso - Grid Search</td>\n",
       "      <td>0.01</td>\n",
       "      <td>472.56</td>\n",
       "      <td>21.74</td>\n",
       "      <td>17.24</td>\n",
       "      <td>8.70</td>\n",
       "    </tr>\n",
       "  </tbody>\n",
       "</table>\n",
       "</div>"
      ],
      "text/plain": [
       "                    Model   R²    MSE  RMSE   MAE  MAPE\n",
       "0  LR Lasso - Grid Search 0.01 472.56 21.74 17.24  8.70"
      ]
     },
     "metadata": {},
     "output_type": "display_data"
    }
   ],
   "source": [
    "y_pred_lr_lasso_grid = lr_lasso_grid.predict( X_val )\n",
    "\n",
    "lr_lasso_grid_metrics = model_avaliation( 'LR Lasso - Grid Search', y_val, y_pred_lr_lasso_grid )\n",
    "\n",
    "print( f\"LR Lasso - Best Parameters: {lr_lasso_grid.best_params_}\" )\n",
    "display( lr_lasso_grid_metrics )"
   ]
  },
  {
   "cell_type": "markdown",
   "metadata": {},
   "source": [
    "#### Linear Regression - Ridge"
   ]
  },
  {
   "cell_type": "code",
   "execution_count": 56,
   "metadata": {},
   "outputs": [
    {
     "data": {
      "text/html": [
       "<style>#sk-container-id-6 {color: black;background-color: white;}#sk-container-id-6 pre{padding: 0;}#sk-container-id-6 div.sk-toggleable {background-color: white;}#sk-container-id-6 label.sk-toggleable__label {cursor: pointer;display: block;width: 100%;margin-bottom: 0;padding: 0.3em;box-sizing: border-box;text-align: center;}#sk-container-id-6 label.sk-toggleable__label-arrow:before {content: \"▸\";float: left;margin-right: 0.25em;color: #696969;}#sk-container-id-6 label.sk-toggleable__label-arrow:hover:before {color: black;}#sk-container-id-6 div.sk-estimator:hover label.sk-toggleable__label-arrow:before {color: black;}#sk-container-id-6 div.sk-toggleable__content {max-height: 0;max-width: 0;overflow: hidden;text-align: left;background-color: #f0f8ff;}#sk-container-id-6 div.sk-toggleable__content pre {margin: 0.2em;color: black;border-radius: 0.25em;background-color: #f0f8ff;}#sk-container-id-6 input.sk-toggleable__control:checked~div.sk-toggleable__content {max-height: 200px;max-width: 100%;overflow: auto;}#sk-container-id-6 input.sk-toggleable__control:checked~label.sk-toggleable__label-arrow:before {content: \"▾\";}#sk-container-id-6 div.sk-estimator input.sk-toggleable__control:checked~label.sk-toggleable__label {background-color: #d4ebff;}#sk-container-id-6 div.sk-label input.sk-toggleable__control:checked~label.sk-toggleable__label {background-color: #d4ebff;}#sk-container-id-6 input.sk-hidden--visually {border: 0;clip: rect(1px 1px 1px 1px);clip: rect(1px, 1px, 1px, 1px);height: 1px;margin: -1px;overflow: hidden;padding: 0;position: absolute;width: 1px;}#sk-container-id-6 div.sk-estimator {font-family: monospace;background-color: #f0f8ff;border: 1px dotted black;border-radius: 0.25em;box-sizing: border-box;margin-bottom: 0.5em;}#sk-container-id-6 div.sk-estimator:hover {background-color: #d4ebff;}#sk-container-id-6 div.sk-parallel-item::after {content: \"\";width: 100%;border-bottom: 1px solid gray;flex-grow: 1;}#sk-container-id-6 div.sk-label:hover label.sk-toggleable__label {background-color: #d4ebff;}#sk-container-id-6 div.sk-serial::before {content: \"\";position: absolute;border-left: 1px solid gray;box-sizing: border-box;top: 0;bottom: 0;left: 50%;z-index: 0;}#sk-container-id-6 div.sk-serial {display: flex;flex-direction: column;align-items: center;background-color: white;padding-right: 0.2em;padding-left: 0.2em;position: relative;}#sk-container-id-6 div.sk-item {position: relative;z-index: 1;}#sk-container-id-6 div.sk-parallel {display: flex;align-items: stretch;justify-content: center;background-color: white;position: relative;}#sk-container-id-6 div.sk-item::before, #sk-container-id-6 div.sk-parallel-item::before {content: \"\";position: absolute;border-left: 1px solid gray;box-sizing: border-box;top: 0;bottom: 0;left: 50%;z-index: -1;}#sk-container-id-6 div.sk-parallel-item {display: flex;flex-direction: column;z-index: 1;position: relative;background-color: white;}#sk-container-id-6 div.sk-parallel-item:first-child::after {align-self: flex-end;width: 50%;}#sk-container-id-6 div.sk-parallel-item:last-child::after {align-self: flex-start;width: 50%;}#sk-container-id-6 div.sk-parallel-item:only-child::after {width: 0;}#sk-container-id-6 div.sk-dashed-wrapped {border: 1px dashed gray;margin: 0 0.4em 0.5em 0.4em;box-sizing: border-box;padding-bottom: 0.4em;background-color: white;}#sk-container-id-6 div.sk-label label {font-family: monospace;font-weight: bold;display: inline-block;line-height: 1.2em;}#sk-container-id-6 div.sk-label-container {text-align: center;}#sk-container-id-6 div.sk-container {/* jupyter's `normalize.less` sets `[hidden] { display: none; }` but bootstrap.min.css set `[hidden] { display: none !important; }` so we also need the `!important` here to be able to override the default hidden behavior on the sphinx rendered scikit-learn.org. See: https://github.com/scikit-learn/scikit-learn/issues/21755 */display: inline-block !important;position: relative;}#sk-container-id-6 div.sk-text-repr-fallback {display: none;}</style><div id=\"sk-container-id-6\" class=\"sk-top-container\"><div class=\"sk-text-repr-fallback\"><pre>GridSearchCV(cv=3, estimator=Ridge(alpha=1, max_iter=1000),\n",
       "             param_grid={&#x27;alpha&#x27;: [0.5, 1, 5, 10, 20, 50],\n",
       "                         &#x27;max_iter&#x27;: [500, 1000, 2000, 5000]},\n",
       "             scoring=&#x27;r2&#x27;)</pre><b>In a Jupyter environment, please rerun this cell to show the HTML representation or trust the notebook. <br />On GitHub, the HTML representation is unable to render, please try loading this page with nbviewer.org.</b></div><div class=\"sk-container\" hidden><div class=\"sk-item sk-dashed-wrapped\"><div class=\"sk-label-container\"><div class=\"sk-label sk-toggleable\"><input class=\"sk-toggleable__control sk-hidden--visually\" id=\"sk-estimator-id-16\" type=\"checkbox\" ><label for=\"sk-estimator-id-16\" class=\"sk-toggleable__label sk-toggleable__label-arrow\">GridSearchCV</label><div class=\"sk-toggleable__content\"><pre>GridSearchCV(cv=3, estimator=Ridge(alpha=1, max_iter=1000),\n",
       "             param_grid={&#x27;alpha&#x27;: [0.5, 1, 5, 10, 20, 50],\n",
       "                         &#x27;max_iter&#x27;: [500, 1000, 2000, 5000]},\n",
       "             scoring=&#x27;r2&#x27;)</pre></div></div></div><div class=\"sk-parallel\"><div class=\"sk-parallel-item\"><div class=\"sk-item\"><div class=\"sk-label-container\"><div class=\"sk-label sk-toggleable\"><input class=\"sk-toggleable__control sk-hidden--visually\" id=\"sk-estimator-id-17\" type=\"checkbox\" ><label for=\"sk-estimator-id-17\" class=\"sk-toggleable__label sk-toggleable__label-arrow\">estimator: Ridge</label><div class=\"sk-toggleable__content\"><pre>Ridge(alpha=1, max_iter=1000)</pre></div></div></div><div class=\"sk-serial\"><div class=\"sk-item\"><div class=\"sk-estimator sk-toggleable\"><input class=\"sk-toggleable__control sk-hidden--visually\" id=\"sk-estimator-id-18\" type=\"checkbox\" ><label for=\"sk-estimator-id-18\" class=\"sk-toggleable__label sk-toggleable__label-arrow\">Ridge</label><div class=\"sk-toggleable__content\"><pre>Ridge(alpha=1, max_iter=1000)</pre></div></div></div></div></div></div></div></div></div></div>"
      ],
      "text/plain": [
       "GridSearchCV(cv=3, estimator=Ridge(alpha=1, max_iter=1000),\n",
       "             param_grid={'alpha': [0.5, 1, 5, 10, 20, 50],\n",
       "                         'max_iter': [500, 1000, 2000, 5000]},\n",
       "             scoring='r2')"
      ]
     },
     "execution_count": 56,
     "metadata": {},
     "output_type": "execute_result"
    }
   ],
   "source": [
    "lr_ridge_model = Ridge( alpha=1, max_iter=1000 )\n",
    "\n",
    "params = {\"alpha\": [0.5, 1, 5, 10, 20, 50], \n",
    "          \"max_iter\": [500, 1000, 2000, 5000]}\n",
    "\n",
    "lr_ridge_grid = GridSearchCV(lr_ridge_model, params, cv=3, verbose=0, scoring='r2')\n",
    "\n",
    "lr_ridge_grid.fit(X_train, y_train)"
   ]
  },
  {
   "cell_type": "code",
   "execution_count": 57,
   "metadata": {},
   "outputs": [
    {
     "name": "stdout",
     "output_type": "stream",
     "text": [
      "LR Ridge - Best Parameters: {'alpha': 10, 'max_iter': 500}\n"
     ]
    },
    {
     "data": {
      "text/html": [
       "<div>\n",
       "<style scoped>\n",
       "    .dataframe tbody tr th:only-of-type {\n",
       "        vertical-align: middle;\n",
       "    }\n",
       "\n",
       "    .dataframe tbody tr th {\n",
       "        vertical-align: top;\n",
       "    }\n",
       "\n",
       "    .dataframe thead th {\n",
       "        text-align: right;\n",
       "    }\n",
       "</style>\n",
       "<table border=\"1\" class=\"dataframe\">\n",
       "  <thead>\n",
       "    <tr style=\"text-align: right;\">\n",
       "      <th></th>\n",
       "      <th>Model</th>\n",
       "      <th>R²</th>\n",
       "      <th>MSE</th>\n",
       "      <th>RMSE</th>\n",
       "      <th>MAE</th>\n",
       "      <th>MAPE</th>\n",
       "    </tr>\n",
       "  </thead>\n",
       "  <tbody>\n",
       "    <tr>\n",
       "      <th>0</th>\n",
       "      <td>LR Ridge - Grid Search</td>\n",
       "      <td>0.04</td>\n",
       "      <td>458.44</td>\n",
       "      <td>21.41</td>\n",
       "      <td>17.04</td>\n",
       "      <td>8.68</td>\n",
       "    </tr>\n",
       "  </tbody>\n",
       "</table>\n",
       "</div>"
      ],
      "text/plain": [
       "                    Model   R²    MSE  RMSE   MAE  MAPE\n",
       "0  LR Ridge - Grid Search 0.04 458.44 21.41 17.04  8.68"
      ]
     },
     "metadata": {},
     "output_type": "display_data"
    }
   ],
   "source": [
    "y_pred_lr_ridge_grid = lr_ridge_grid.predict( X_val )\n",
    "\n",
    "lr_ridge_grid_metrics = model_avaliation( 'LR Ridge - Grid Search', y_val, y_pred_lr_ridge_grid )\n",
    "\n",
    "print( f\"LR Ridge - Best Parameters: {lr_ridge_grid.best_params_}\" )\n",
    "display( lr_ridge_grid_metrics )"
   ]
  },
  {
   "cell_type": "markdown",
   "metadata": {},
   "source": [
    "#### Linear Regression - Elastic Net"
   ]
  },
  {
   "cell_type": "code",
   "execution_count": 58,
   "metadata": {},
   "outputs": [
    {
     "data": {
      "text/html": [
       "<style>#sk-container-id-7 {color: black;background-color: white;}#sk-container-id-7 pre{padding: 0;}#sk-container-id-7 div.sk-toggleable {background-color: white;}#sk-container-id-7 label.sk-toggleable__label {cursor: pointer;display: block;width: 100%;margin-bottom: 0;padding: 0.3em;box-sizing: border-box;text-align: center;}#sk-container-id-7 label.sk-toggleable__label-arrow:before {content: \"▸\";float: left;margin-right: 0.25em;color: #696969;}#sk-container-id-7 label.sk-toggleable__label-arrow:hover:before {color: black;}#sk-container-id-7 div.sk-estimator:hover label.sk-toggleable__label-arrow:before {color: black;}#sk-container-id-7 div.sk-toggleable__content {max-height: 0;max-width: 0;overflow: hidden;text-align: left;background-color: #f0f8ff;}#sk-container-id-7 div.sk-toggleable__content pre {margin: 0.2em;color: black;border-radius: 0.25em;background-color: #f0f8ff;}#sk-container-id-7 input.sk-toggleable__control:checked~div.sk-toggleable__content {max-height: 200px;max-width: 100%;overflow: auto;}#sk-container-id-7 input.sk-toggleable__control:checked~label.sk-toggleable__label-arrow:before {content: \"▾\";}#sk-container-id-7 div.sk-estimator input.sk-toggleable__control:checked~label.sk-toggleable__label {background-color: #d4ebff;}#sk-container-id-7 div.sk-label input.sk-toggleable__control:checked~label.sk-toggleable__label {background-color: #d4ebff;}#sk-container-id-7 input.sk-hidden--visually {border: 0;clip: rect(1px 1px 1px 1px);clip: rect(1px, 1px, 1px, 1px);height: 1px;margin: -1px;overflow: hidden;padding: 0;position: absolute;width: 1px;}#sk-container-id-7 div.sk-estimator {font-family: monospace;background-color: #f0f8ff;border: 1px dotted black;border-radius: 0.25em;box-sizing: border-box;margin-bottom: 0.5em;}#sk-container-id-7 div.sk-estimator:hover {background-color: #d4ebff;}#sk-container-id-7 div.sk-parallel-item::after {content: \"\";width: 100%;border-bottom: 1px solid gray;flex-grow: 1;}#sk-container-id-7 div.sk-label:hover label.sk-toggleable__label {background-color: #d4ebff;}#sk-container-id-7 div.sk-serial::before {content: \"\";position: absolute;border-left: 1px solid gray;box-sizing: border-box;top: 0;bottom: 0;left: 50%;z-index: 0;}#sk-container-id-7 div.sk-serial {display: flex;flex-direction: column;align-items: center;background-color: white;padding-right: 0.2em;padding-left: 0.2em;position: relative;}#sk-container-id-7 div.sk-item {position: relative;z-index: 1;}#sk-container-id-7 div.sk-parallel {display: flex;align-items: stretch;justify-content: center;background-color: white;position: relative;}#sk-container-id-7 div.sk-item::before, #sk-container-id-7 div.sk-parallel-item::before {content: \"\";position: absolute;border-left: 1px solid gray;box-sizing: border-box;top: 0;bottom: 0;left: 50%;z-index: -1;}#sk-container-id-7 div.sk-parallel-item {display: flex;flex-direction: column;z-index: 1;position: relative;background-color: white;}#sk-container-id-7 div.sk-parallel-item:first-child::after {align-self: flex-end;width: 50%;}#sk-container-id-7 div.sk-parallel-item:last-child::after {align-self: flex-start;width: 50%;}#sk-container-id-7 div.sk-parallel-item:only-child::after {width: 0;}#sk-container-id-7 div.sk-dashed-wrapped {border: 1px dashed gray;margin: 0 0.4em 0.5em 0.4em;box-sizing: border-box;padding-bottom: 0.4em;background-color: white;}#sk-container-id-7 div.sk-label label {font-family: monospace;font-weight: bold;display: inline-block;line-height: 1.2em;}#sk-container-id-7 div.sk-label-container {text-align: center;}#sk-container-id-7 div.sk-container {/* jupyter's `normalize.less` sets `[hidden] { display: none; }` but bootstrap.min.css set `[hidden] { display: none !important; }` so we also need the `!important` here to be able to override the default hidden behavior on the sphinx rendered scikit-learn.org. See: https://github.com/scikit-learn/scikit-learn/issues/21755 */display: inline-block !important;position: relative;}#sk-container-id-7 div.sk-text-repr-fallback {display: none;}</style><div id=\"sk-container-id-7\" class=\"sk-top-container\"><div class=\"sk-text-repr-fallback\"><pre>GridSearchCV(cv=3, estimator=ElasticNet(alpha=1),\n",
       "             param_grid={&#x27;alpha&#x27;: [0.5, 1, 5, 10, 20, 50],\n",
       "                         &#x27;l1_ratio&#x27;: [0.25, 0.5, 0.75],\n",
       "                         &#x27;max_iter&#x27;: [500, 1000, 2000, 5000]},\n",
       "             scoring=&#x27;r2&#x27;)</pre><b>In a Jupyter environment, please rerun this cell to show the HTML representation or trust the notebook. <br />On GitHub, the HTML representation is unable to render, please try loading this page with nbviewer.org.</b></div><div class=\"sk-container\" hidden><div class=\"sk-item sk-dashed-wrapped\"><div class=\"sk-label-container\"><div class=\"sk-label sk-toggleable\"><input class=\"sk-toggleable__control sk-hidden--visually\" id=\"sk-estimator-id-19\" type=\"checkbox\" ><label for=\"sk-estimator-id-19\" class=\"sk-toggleable__label sk-toggleable__label-arrow\">GridSearchCV</label><div class=\"sk-toggleable__content\"><pre>GridSearchCV(cv=3, estimator=ElasticNet(alpha=1),\n",
       "             param_grid={&#x27;alpha&#x27;: [0.5, 1, 5, 10, 20, 50],\n",
       "                         &#x27;l1_ratio&#x27;: [0.25, 0.5, 0.75],\n",
       "                         &#x27;max_iter&#x27;: [500, 1000, 2000, 5000]},\n",
       "             scoring=&#x27;r2&#x27;)</pre></div></div></div><div class=\"sk-parallel\"><div class=\"sk-parallel-item\"><div class=\"sk-item\"><div class=\"sk-label-container\"><div class=\"sk-label sk-toggleable\"><input class=\"sk-toggleable__control sk-hidden--visually\" id=\"sk-estimator-id-20\" type=\"checkbox\" ><label for=\"sk-estimator-id-20\" class=\"sk-toggleable__label sk-toggleable__label-arrow\">estimator: ElasticNet</label><div class=\"sk-toggleable__content\"><pre>ElasticNet(alpha=1)</pre></div></div></div><div class=\"sk-serial\"><div class=\"sk-item\"><div class=\"sk-estimator sk-toggleable\"><input class=\"sk-toggleable__control sk-hidden--visually\" id=\"sk-estimator-id-21\" type=\"checkbox\" ><label for=\"sk-estimator-id-21\" class=\"sk-toggleable__label sk-toggleable__label-arrow\">ElasticNet</label><div class=\"sk-toggleable__content\"><pre>ElasticNet(alpha=1)</pre></div></div></div></div></div></div></div></div></div></div>"
      ],
      "text/plain": [
       "GridSearchCV(cv=3, estimator=ElasticNet(alpha=1),\n",
       "             param_grid={'alpha': [0.5, 1, 5, 10, 20, 50],\n",
       "                         'l1_ratio': [0.25, 0.5, 0.75],\n",
       "                         'max_iter': [500, 1000, 2000, 5000]},\n",
       "             scoring='r2')"
      ]
     },
     "execution_count": 58,
     "metadata": {},
     "output_type": "execute_result"
    }
   ],
   "source": [
    "lr_elastic_model = ElasticNet( alpha=1, max_iter=1000, l1_ratio=0.5 )\n",
    "\n",
    "params = {\"alpha\": [0.5, 1, 5, 10, 20, 50], \n",
    "          \"max_iter\": [500, 1000, 2000, 5000],\n",
    "          \"l1_ratio\": [0.25, 0.5, 0.75]}\n",
    "\n",
    "lr_elastic_grid = GridSearchCV(lr_elastic_model, params, cv=3, verbose=0, scoring='r2')\n",
    "\n",
    "lr_elastic_grid.fit(X_train, y_train)"
   ]
  },
  {
   "cell_type": "code",
   "execution_count": 59,
   "metadata": {},
   "outputs": [
    {
     "name": "stdout",
     "output_type": "stream",
     "text": [
      "LR Elastic - Best Parameters: {'alpha': 0.5, 'l1_ratio': 0.25, 'max_iter': 500}\n"
     ]
    },
    {
     "data": {
      "text/html": [
       "<div>\n",
       "<style scoped>\n",
       "    .dataframe tbody tr th:only-of-type {\n",
       "        vertical-align: middle;\n",
       "    }\n",
       "\n",
       "    .dataframe tbody tr th {\n",
       "        vertical-align: top;\n",
       "    }\n",
       "\n",
       "    .dataframe thead th {\n",
       "        text-align: right;\n",
       "    }\n",
       "</style>\n",
       "<table border=\"1\" class=\"dataframe\">\n",
       "  <thead>\n",
       "    <tr style=\"text-align: right;\">\n",
       "      <th></th>\n",
       "      <th>Model</th>\n",
       "      <th>R²</th>\n",
       "      <th>MSE</th>\n",
       "      <th>RMSE</th>\n",
       "      <th>MAE</th>\n",
       "      <th>MAPE</th>\n",
       "    </tr>\n",
       "  </thead>\n",
       "  <tbody>\n",
       "    <tr>\n",
       "      <th>0</th>\n",
       "      <td>LR Elastic - Grid Search</td>\n",
       "      <td>0.01</td>\n",
       "      <td>471.08</td>\n",
       "      <td>21.70</td>\n",
       "      <td>17.22</td>\n",
       "      <td>8.69</td>\n",
       "    </tr>\n",
       "  </tbody>\n",
       "</table>\n",
       "</div>"
      ],
      "text/plain": [
       "                      Model   R²    MSE  RMSE   MAE  MAPE\n",
       "0  LR Elastic - Grid Search 0.01 471.08 21.70 17.22  8.69"
      ]
     },
     "metadata": {},
     "output_type": "display_data"
    }
   ],
   "source": [
    "y_pred_lr_elastic_grid = lr_elastic_grid.predict( X_val )\n",
    "\n",
    "lr_elastic_grid_metrics = model_avaliation( 'LR Elastic - Grid Search', y_val, y_pred_lr_elastic_grid )\n",
    "\n",
    "print( f\"LR Elastic - Best Parameters: {lr_elastic_grid.best_params_}\" )\n",
    "display( lr_elastic_grid_metrics )"
   ]
  },
  {
   "cell_type": "markdown",
   "metadata": {},
   "source": [
    "#### Polynomial Regression - Lasso"
   ]
  },
  {
   "cell_type": "code",
   "execution_count": 60,
   "metadata": {},
   "outputs": [
    {
     "name": "stdout",
     "output_type": "stream",
     "text": [
      "Degree 1 - Best Parameters: {'alpha': 0.5, 'max_iter': 500}\n",
      "Degree 2 - Best Parameters: {'alpha': 0.5, 'max_iter': 500}\n",
      "Degree 3 - Best Parameters: {'alpha': 1, 'max_iter': 500}\n"
     ]
    }
   ],
   "source": [
    "degrees = np.arange(1, 4, 1)\n",
    "poly_lasso_tunning_metrics = pd.DataFrame()\n",
    "\n",
    "for d in degrees:\n",
    "    poly = PolynomialFeatures( degree = d )\n",
    "    X_val_poly   = poly.fit_transform( X_val )\n",
    "    X_train_poly = poly.fit_transform( X_train )\n",
    "\n",
    "    model = Lasso( alpha=1, max_iter=1000 )\n",
    "\n",
    "    params = {\"alpha\": [0.5, 1, 5, 10, 20, 50], \n",
    "          \"max_iter\": [500, 1000, 2000, 5000]}\n",
    "    \n",
    "    model_grid = GridSearchCV(model, params, cv=3, verbose=0, scoring='r2')\n",
    "\n",
    "    model_grid.fit(X_train_poly, y_train)\n",
    "\n",
    "    y_pred = model_grid.predict( X_val_poly ) \n",
    "\n",
    "    text = f\"Polynomial Lasso - Degree {d}\"\n",
    "\n",
    "    loop_metrics = model_avaliation( text, y_val, y_pred )\n",
    "\n",
    "    print( f\"Degree {d} - Best Parameters: {model_grid.best_params_}\" )\n",
    "\n",
    "    poly_lasso_tunning_metrics = pd.concat( [poly_lasso_tunning_metrics, loop_metrics] )"
   ]
  },
  {
   "cell_type": "code",
   "execution_count": 61,
   "metadata": {},
   "outputs": [
    {
     "data": {
      "text/html": [
       "<div>\n",
       "<style scoped>\n",
       "    .dataframe tbody tr th:only-of-type {\n",
       "        vertical-align: middle;\n",
       "    }\n",
       "\n",
       "    .dataframe tbody tr th {\n",
       "        vertical-align: top;\n",
       "    }\n",
       "\n",
       "    .dataframe thead th {\n",
       "        text-align: right;\n",
       "    }\n",
       "</style>\n",
       "<table border=\"1\" class=\"dataframe\">\n",
       "  <thead>\n",
       "    <tr style=\"text-align: right;\">\n",
       "      <th></th>\n",
       "      <th>Model</th>\n",
       "      <th>R²</th>\n",
       "      <th>MSE</th>\n",
       "      <th>RMSE</th>\n",
       "      <th>MAE</th>\n",
       "      <th>MAPE</th>\n",
       "    </tr>\n",
       "  </thead>\n",
       "  <tbody>\n",
       "    <tr>\n",
       "      <th>0</th>\n",
       "      <td>Polynomial Lasso - Degree 2</td>\n",
       "      <td>0.02</td>\n",
       "      <td>469.11</td>\n",
       "      <td>21.66</td>\n",
       "      <td>17.15</td>\n",
       "      <td>8.68</td>\n",
       "    </tr>\n",
       "    <tr>\n",
       "      <th>0</th>\n",
       "      <td>Polynomial Lasso - Degree 3</td>\n",
       "      <td>0.01</td>\n",
       "      <td>470.76</td>\n",
       "      <td>21.70</td>\n",
       "      <td>17.18</td>\n",
       "      <td>8.66</td>\n",
       "    </tr>\n",
       "    <tr>\n",
       "      <th>0</th>\n",
       "      <td>Polynomial Lasso - Degree 1</td>\n",
       "      <td>0.01</td>\n",
       "      <td>472.56</td>\n",
       "      <td>21.74</td>\n",
       "      <td>17.24</td>\n",
       "      <td>8.70</td>\n",
       "    </tr>\n",
       "  </tbody>\n",
       "</table>\n",
       "</div>"
      ],
      "text/plain": [
       "                         Model   R²    MSE  RMSE   MAE  MAPE\n",
       "0  Polynomial Lasso - Degree 2 0.02 469.11 21.66 17.15  8.68\n",
       "0  Polynomial Lasso - Degree 3 0.01 470.76 21.70 17.18  8.66\n",
       "0  Polynomial Lasso - Degree 1 0.01 472.56 21.74 17.24  8.70"
      ]
     },
     "metadata": {},
     "output_type": "display_data"
    }
   ],
   "source": [
    "poly_lasso_tunning_metrics = poly_lasso_tunning_metrics.sort_values( by='R²', ascending=False )\n",
    "display( poly_lasso_tunning_metrics )\n",
    "poly_lasso_grid_metrics = poly_lasso_tunning_metrics.head( 1 )"
   ]
  },
  {
   "cell_type": "markdown",
   "metadata": {},
   "source": [
    "#### Polynomial Regression - Ridge"
   ]
  },
  {
   "cell_type": "code",
   "execution_count": 62,
   "metadata": {},
   "outputs": [
    {
     "name": "stdout",
     "output_type": "stream",
     "text": [
      "Degree 1 - Best Parameters: {'alpha': 10, 'max_iter': 500}\n",
      "Degree 2 - Best Parameters: {'alpha': 5, 'max_iter': 500}\n",
      "Degree 3 - Best Parameters: {'alpha': 50, 'max_iter': 500}\n"
     ]
    }
   ],
   "source": [
    "degrees = np.arange(1, 4, 1)\n",
    "poly_ridge_tunning_metrics = pd.DataFrame()\n",
    "\n",
    "for d in degrees:\n",
    "    poly = PolynomialFeatures( degree = d )\n",
    "    X_val_poly   = poly.fit_transform( X_val )\n",
    "    X_train_poly = poly.fit_transform( X_train )\n",
    "\n",
    "    model = Ridge( alpha=1, max_iter=1000 )\n",
    "\n",
    "    params = {\"alpha\": [0.5, 1, 5, 10, 20, 50], \n",
    "          \"max_iter\": [500, 1000, 2000, 5000]}\n",
    "    \n",
    "    model_grid = GridSearchCV(model, params, cv=3, verbose=0, scoring='r2')\n",
    "\n",
    "    model_grid.fit(X_train_poly, y_train)\n",
    "\n",
    "    y_pred = model_grid.predict( X_val_poly ) \n",
    "\n",
    "    text = f\"Polynomial Ridge - Degree {d}\"\n",
    "\n",
    "    loop_metrics = model_avaliation( text, y_val, y_pred )\n",
    "\n",
    "    print( f\"Degree {d} - Best Parameters: {model_grid.best_params_}\" )\n",
    "\n",
    "    poly_ridge_tunning_metrics = pd.concat( [poly_ridge_tunning_metrics, loop_metrics] )"
   ]
  },
  {
   "cell_type": "code",
   "execution_count": 63,
   "metadata": {},
   "outputs": [
    {
     "data": {
      "text/html": [
       "<div>\n",
       "<style scoped>\n",
       "    .dataframe tbody tr th:only-of-type {\n",
       "        vertical-align: middle;\n",
       "    }\n",
       "\n",
       "    .dataframe tbody tr th {\n",
       "        vertical-align: top;\n",
       "    }\n",
       "\n",
       "    .dataframe thead th {\n",
       "        text-align: right;\n",
       "    }\n",
       "</style>\n",
       "<table border=\"1\" class=\"dataframe\">\n",
       "  <thead>\n",
       "    <tr style=\"text-align: right;\">\n",
       "      <th></th>\n",
       "      <th>Model</th>\n",
       "      <th>R²</th>\n",
       "      <th>MSE</th>\n",
       "      <th>RMSE</th>\n",
       "      <th>MAE</th>\n",
       "      <th>MAPE</th>\n",
       "    </tr>\n",
       "  </thead>\n",
       "  <tbody>\n",
       "    <tr>\n",
       "      <th>0</th>\n",
       "      <td>Polynomial Ridge - Degree 2</td>\n",
       "      <td>0.07</td>\n",
       "      <td>445.24</td>\n",
       "      <td>21.10</td>\n",
       "      <td>16.74</td>\n",
       "      <td>8.59</td>\n",
       "    </tr>\n",
       "    <tr>\n",
       "      <th>0</th>\n",
       "      <td>Polynomial Ridge - Degree 1</td>\n",
       "      <td>0.04</td>\n",
       "      <td>458.44</td>\n",
       "      <td>21.41</td>\n",
       "      <td>17.04</td>\n",
       "      <td>8.68</td>\n",
       "    </tr>\n",
       "    <tr>\n",
       "      <th>0</th>\n",
       "      <td>Polynomial Ridge - Degree 3</td>\n",
       "      <td>-0.01</td>\n",
       "      <td>482.72</td>\n",
       "      <td>21.97</td>\n",
       "      <td>16.78</td>\n",
       "      <td>8.55</td>\n",
       "    </tr>\n",
       "  </tbody>\n",
       "</table>\n",
       "</div>"
      ],
      "text/plain": [
       "                         Model    R²    MSE  RMSE   MAE  MAPE\n",
       "0  Polynomial Ridge - Degree 2  0.07 445.24 21.10 16.74  8.59\n",
       "0  Polynomial Ridge - Degree 1  0.04 458.44 21.41 17.04  8.68\n",
       "0  Polynomial Ridge - Degree 3 -0.01 482.72 21.97 16.78  8.55"
      ]
     },
     "metadata": {},
     "output_type": "display_data"
    }
   ],
   "source": [
    "poly_ridge_tunning_metrics = poly_ridge_tunning_metrics.sort_values( by='R²', ascending=False )\n",
    "display( poly_ridge_tunning_metrics )\n",
    "poly_ridge_grid_metrics = poly_ridge_tunning_metrics.head( 1 )"
   ]
  },
  {
   "cell_type": "markdown",
   "metadata": {},
   "source": [
    "#### Polynomial Regression - Elastic Net"
   ]
  },
  {
   "cell_type": "code",
   "execution_count": 64,
   "metadata": {},
   "outputs": [
    {
     "name": "stdout",
     "output_type": "stream",
     "text": [
      "Degree 1 - Best Parameters: {'alpha': 0.5, 'l1_ratio': 0.25, 'max_iter': 500}\n",
      "Degree 2 - Best Parameters: {'alpha': 0.5, 'l1_ratio': 0.25, 'max_iter': 500}\n",
      "Degree 3 - Best Parameters: {'alpha': 1, 'l1_ratio': 0.75, 'max_iter': 500}\n"
     ]
    }
   ],
   "source": [
    "degrees = np.arange(1, 4, 1)\n",
    "poly_elastic_tunning_metrics = pd.DataFrame()\n",
    "\n",
    "for d in degrees:\n",
    "    poly = PolynomialFeatures( degree = d )\n",
    "    X_val_poly   = poly.fit_transform( X_val )\n",
    "    X_train_poly = poly.fit_transform( X_train )\n",
    "\n",
    "    model = ElasticNet( alpha=1, max_iter=1000, l1_ratio=0.5 )\n",
    "\n",
    "    params = {\"alpha\": [0.5, 1, 5, 10, 20, 50], \n",
    "          \"max_iter\": [500, 1000, 2000, 5000],\n",
    "          \"l1_ratio\": [0.25, 0.5, 0.75]}\n",
    "    \n",
    "    model_grid = GridSearchCV(model, params, cv=3, verbose=0, scoring='r2')\n",
    "\n",
    "    model_grid.fit(X_train_poly, y_train)\n",
    "\n",
    "    y_pred = model_grid.predict( X_val_poly ) \n",
    "\n",
    "    text = f\"Polynomial Elastic - Degree {d}\"\n",
    "\n",
    "    loop_metrics = model_avaliation( text, y_val, y_pred )\n",
    "\n",
    "    print( f\"Degree {d} - Best Parameters: {model_grid.best_params_}\" )\n",
    "\n",
    "    poly_elastic_tunning_metrics = pd.concat( [poly_elastic_tunning_metrics, loop_metrics] )"
   ]
  },
  {
   "cell_type": "code",
   "execution_count": 65,
   "metadata": {},
   "outputs": [
    {
     "data": {
      "text/html": [
       "<div>\n",
       "<style scoped>\n",
       "    .dataframe tbody tr th:only-of-type {\n",
       "        vertical-align: middle;\n",
       "    }\n",
       "\n",
       "    .dataframe tbody tr th {\n",
       "        vertical-align: top;\n",
       "    }\n",
       "\n",
       "    .dataframe thead th {\n",
       "        text-align: right;\n",
       "    }\n",
       "</style>\n",
       "<table border=\"1\" class=\"dataframe\">\n",
       "  <thead>\n",
       "    <tr style=\"text-align: right;\">\n",
       "      <th></th>\n",
       "      <th>Model</th>\n",
       "      <th>R²</th>\n",
       "      <th>MSE</th>\n",
       "      <th>RMSE</th>\n",
       "      <th>MAE</th>\n",
       "      <th>MAPE</th>\n",
       "    </tr>\n",
       "  </thead>\n",
       "  <tbody>\n",
       "    <tr>\n",
       "      <th>0</th>\n",
       "      <td>Polynomial Elastic - Degree 2</td>\n",
       "      <td>0.03</td>\n",
       "      <td>464.81</td>\n",
       "      <td>21.56</td>\n",
       "      <td>17.07</td>\n",
       "      <td>8.66</td>\n",
       "    </tr>\n",
       "    <tr>\n",
       "      <th>0</th>\n",
       "      <td>Polynomial Elastic - Degree 3</td>\n",
       "      <td>0.01</td>\n",
       "      <td>470.74</td>\n",
       "      <td>21.70</td>\n",
       "      <td>17.18</td>\n",
       "      <td>8.66</td>\n",
       "    </tr>\n",
       "    <tr>\n",
       "      <th>0</th>\n",
       "      <td>Polynomial Elastic - Degree 1</td>\n",
       "      <td>0.01</td>\n",
       "      <td>471.08</td>\n",
       "      <td>21.70</td>\n",
       "      <td>17.22</td>\n",
       "      <td>8.69</td>\n",
       "    </tr>\n",
       "  </tbody>\n",
       "</table>\n",
       "</div>"
      ],
      "text/plain": [
       "                           Model   R²    MSE  RMSE   MAE  MAPE\n",
       "0  Polynomial Elastic - Degree 2 0.03 464.81 21.56 17.07  8.66\n",
       "0  Polynomial Elastic - Degree 3 0.01 470.74 21.70 17.18  8.66\n",
       "0  Polynomial Elastic - Degree 1 0.01 471.08 21.70 17.22  8.69"
      ]
     },
     "metadata": {},
     "output_type": "display_data"
    }
   ],
   "source": [
    "poly_elastic_tunning_metrics = poly_elastic_tunning_metrics.sort_values( by='R²', ascending=False )\n",
    "display( poly_elastic_tunning_metrics )\n",
    "poly_elastic_grid_metrics = poly_elastic_tunning_metrics.head( 1 )"
   ]
  },
  {
   "cell_type": "markdown",
   "metadata": {},
   "source": [
    "#### Performance"
   ]
  },
  {
   "cell_type": "code",
   "execution_count": 66,
   "metadata": {},
   "outputs": [
    {
     "data": {
      "text/html": [
       "<div>\n",
       "<style scoped>\n",
       "    .dataframe tbody tr th:only-of-type {\n",
       "        vertical-align: middle;\n",
       "    }\n",
       "\n",
       "    .dataframe tbody tr th {\n",
       "        vertical-align: top;\n",
       "    }\n",
       "\n",
       "    .dataframe thead th {\n",
       "        text-align: right;\n",
       "    }\n",
       "</style>\n",
       "<table border=\"1\" class=\"dataframe\">\n",
       "  <thead>\n",
       "    <tr style=\"text-align: right;\">\n",
       "      <th></th>\n",
       "      <th>Model</th>\n",
       "      <th>R²</th>\n",
       "      <th>MSE</th>\n",
       "      <th>RMSE</th>\n",
       "      <th>MAE</th>\n",
       "      <th>MAPE</th>\n",
       "    </tr>\n",
       "  </thead>\n",
       "  <tbody>\n",
       "    <tr>\n",
       "      <th>0</th>\n",
       "      <td>Random Forest - Grid Search</td>\n",
       "      <td>0.10</td>\n",
       "      <td>430.80</td>\n",
       "      <td>20.76</td>\n",
       "      <td>16.51</td>\n",
       "      <td>8.41</td>\n",
       "    </tr>\n",
       "    <tr>\n",
       "      <th>0</th>\n",
       "      <td>Decision Tree - Grid Search</td>\n",
       "      <td>0.08</td>\n",
       "      <td>441.14</td>\n",
       "      <td>21.00</td>\n",
       "      <td>16.75</td>\n",
       "      <td>8.35</td>\n",
       "    </tr>\n",
       "    <tr>\n",
       "      <th>0</th>\n",
       "      <td>Polynomial Ridge - Degree 2</td>\n",
       "      <td>0.07</td>\n",
       "      <td>445.24</td>\n",
       "      <td>21.10</td>\n",
       "      <td>16.74</td>\n",
       "      <td>8.59</td>\n",
       "    </tr>\n",
       "    <tr>\n",
       "      <th>0</th>\n",
       "      <td>Polynomial - Degree 2</td>\n",
       "      <td>0.07</td>\n",
       "      <td>445.77</td>\n",
       "      <td>21.11</td>\n",
       "      <td>16.75</td>\n",
       "      <td>8.55</td>\n",
       "    </tr>\n",
       "    <tr>\n",
       "      <th>0</th>\n",
       "      <td>LR Ridge - Grid Search</td>\n",
       "      <td>0.04</td>\n",
       "      <td>458.44</td>\n",
       "      <td>21.41</td>\n",
       "      <td>17.04</td>\n",
       "      <td>8.68</td>\n",
       "    </tr>\n",
       "    <tr>\n",
       "      <th>0</th>\n",
       "      <td>Polynomial Elastic - Degree 2</td>\n",
       "      <td>0.03</td>\n",
       "      <td>464.81</td>\n",
       "      <td>21.56</td>\n",
       "      <td>17.07</td>\n",
       "      <td>8.66</td>\n",
       "    </tr>\n",
       "    <tr>\n",
       "      <th>0</th>\n",
       "      <td>Polynomial Lasso - Degree 2</td>\n",
       "      <td>0.02</td>\n",
       "      <td>469.11</td>\n",
       "      <td>21.66</td>\n",
       "      <td>17.15</td>\n",
       "      <td>8.68</td>\n",
       "    </tr>\n",
       "    <tr>\n",
       "      <th>0</th>\n",
       "      <td>LR Elastic - Grid Search</td>\n",
       "      <td>0.01</td>\n",
       "      <td>471.08</td>\n",
       "      <td>21.70</td>\n",
       "      <td>17.22</td>\n",
       "      <td>8.69</td>\n",
       "    </tr>\n",
       "    <tr>\n",
       "      <th>0</th>\n",
       "      <td>LR Lasso - Grid Search</td>\n",
       "      <td>0.01</td>\n",
       "      <td>472.56</td>\n",
       "      <td>21.74</td>\n",
       "      <td>17.24</td>\n",
       "      <td>8.70</td>\n",
       "    </tr>\n",
       "    <tr>\n",
       "      <th>0</th>\n",
       "      <td>RANSAC - Grid Search</td>\n",
       "      <td>0.00</td>\n",
       "      <td>477.12</td>\n",
       "      <td>21.84</td>\n",
       "      <td>17.19</td>\n",
       "      <td>8.92</td>\n",
       "    </tr>\n",
       "  </tbody>\n",
       "</table>\n",
       "</div>"
      ],
      "text/plain": [
       "                           Model   R²    MSE  RMSE   MAE  MAPE\n",
       "0    Random Forest - Grid Search 0.10 430.80 20.76 16.51  8.41\n",
       "0    Decision Tree - Grid Search 0.08 441.14 21.00 16.75  8.35\n",
       "0    Polynomial Ridge - Degree 2 0.07 445.24 21.10 16.74  8.59\n",
       "0          Polynomial - Degree 2 0.07 445.77 21.11 16.75  8.55\n",
       "0         LR Ridge - Grid Search 0.04 458.44 21.41 17.04  8.68\n",
       "0  Polynomial Elastic - Degree 2 0.03 464.81 21.56 17.07  8.66\n",
       "0    Polynomial Lasso - Degree 2 0.02 469.11 21.66 17.15  8.68\n",
       "0       LR Elastic - Grid Search 0.01 471.08 21.70 17.22  8.69\n",
       "0         LR Lasso - Grid Search 0.01 472.56 21.74 17.24  8.70\n",
       "0           RANSAC - Grid Search 0.00 477.12 21.84 17.19  8.92"
      ]
     },
     "metadata": {},
     "output_type": "display_data"
    }
   ],
   "source": [
    "grid_metrics = pd.concat([tree_grid_metrics, rf_grid_metrics, poly_grid_metrics, ransac_grid_metrics,\n",
    "                          lr_lasso_grid_metrics, lr_ridge_grid_metrics, lr_elastic_grid_metrics,\n",
    "                          poly_lasso_grid_metrics, poly_ridge_grid_metrics, poly_elastic_grid_metrics])\n",
    "\n",
    "display( grid_metrics.sort_values( by='R²', ascending=False ) )"
   ]
  },
  {
   "cell_type": "code",
   "execution_count": 67,
   "metadata": {},
   "outputs": [
    {
     "data": {
      "text/html": [
       "<div>\n",
       "<style scoped>\n",
       "    .dataframe tbody tr th:only-of-type {\n",
       "        vertical-align: middle;\n",
       "    }\n",
       "\n",
       "    .dataframe tbody tr th {\n",
       "        vertical-align: top;\n",
       "    }\n",
       "\n",
       "    .dataframe thead th {\n",
       "        text-align: right;\n",
       "    }\n",
       "</style>\n",
       "<table border=\"1\" class=\"dataframe\">\n",
       "  <thead>\n",
       "    <tr style=\"text-align: right;\">\n",
       "      <th></th>\n",
       "      <th>Model</th>\n",
       "      <th>R²</th>\n",
       "      <th>MSE</th>\n",
       "      <th>RMSE</th>\n",
       "      <th>MAE</th>\n",
       "      <th>MAPE</th>\n",
       "    </tr>\n",
       "  </thead>\n",
       "  <tbody>\n",
       "    <tr>\n",
       "      <th>0</th>\n",
       "      <td>Random Forest</td>\n",
       "      <td>0.35</td>\n",
       "      <td>315.85</td>\n",
       "      <td>17.77</td>\n",
       "      <td>13.05</td>\n",
       "      <td>6.51</td>\n",
       "    </tr>\n",
       "    <tr>\n",
       "      <th>0</th>\n",
       "      <td>Random Forest - Grid Search</td>\n",
       "      <td>0.10</td>\n",
       "      <td>430.80</td>\n",
       "      <td>20.76</td>\n",
       "      <td>16.51</td>\n",
       "      <td>8.41</td>\n",
       "    </tr>\n",
       "    <tr>\n",
       "      <th>0</th>\n",
       "      <td>Polynomial Regression</td>\n",
       "      <td>0.09</td>\n",
       "      <td>443.04</td>\n",
       "      <td>21.05</td>\n",
       "      <td>16.72</td>\n",
       "      <td>8.24</td>\n",
       "    </tr>\n",
       "    <tr>\n",
       "      <th>0</th>\n",
       "      <td>Polynomial - Ridge</td>\n",
       "      <td>0.09</td>\n",
       "      <td>443.49</td>\n",
       "      <td>21.06</td>\n",
       "      <td>16.73</td>\n",
       "      <td>8.29</td>\n",
       "    </tr>\n",
       "    <tr>\n",
       "      <th>0</th>\n",
       "      <td>Decision Tree - Grid Search</td>\n",
       "      <td>0.08</td>\n",
       "      <td>441.14</td>\n",
       "      <td>21.00</td>\n",
       "      <td>16.75</td>\n",
       "      <td>8.35</td>\n",
       "    </tr>\n",
       "    <tr>\n",
       "      <th>0</th>\n",
       "      <td>Polynomial Ridge - Degree 2</td>\n",
       "      <td>0.07</td>\n",
       "      <td>445.24</td>\n",
       "      <td>21.10</td>\n",
       "      <td>16.74</td>\n",
       "      <td>8.59</td>\n",
       "    </tr>\n",
       "    <tr>\n",
       "      <th>0</th>\n",
       "      <td>Polynomial - Degree 2</td>\n",
       "      <td>0.07</td>\n",
       "      <td>445.77</td>\n",
       "      <td>21.11</td>\n",
       "      <td>16.75</td>\n",
       "      <td>8.55</td>\n",
       "    </tr>\n",
       "    <tr>\n",
       "      <th>0</th>\n",
       "      <td>Linear Regression</td>\n",
       "      <td>0.05</td>\n",
       "      <td>461.43</td>\n",
       "      <td>21.48</td>\n",
       "      <td>17.13</td>\n",
       "      <td>8.52</td>\n",
       "    </tr>\n",
       "    <tr>\n",
       "      <th>0</th>\n",
       "      <td>LR - Ridge</td>\n",
       "      <td>0.05</td>\n",
       "      <td>461.45</td>\n",
       "      <td>21.48</td>\n",
       "      <td>17.13</td>\n",
       "      <td>8.52</td>\n",
       "    </tr>\n",
       "    <tr>\n",
       "      <th>0</th>\n",
       "      <td>LR Ridge - Grid Search</td>\n",
       "      <td>0.04</td>\n",
       "      <td>458.44</td>\n",
       "      <td>21.41</td>\n",
       "      <td>17.04</td>\n",
       "      <td>8.68</td>\n",
       "    </tr>\n",
       "    <tr>\n",
       "      <th>0</th>\n",
       "      <td>Polynomial Elastic - Degree 2</td>\n",
       "      <td>0.03</td>\n",
       "      <td>464.81</td>\n",
       "      <td>21.56</td>\n",
       "      <td>17.07</td>\n",
       "      <td>8.66</td>\n",
       "    </tr>\n",
       "    <tr>\n",
       "      <th>0</th>\n",
       "      <td>Polynomial Lasso - Degree 2</td>\n",
       "      <td>0.02</td>\n",
       "      <td>469.11</td>\n",
       "      <td>21.66</td>\n",
       "      <td>17.15</td>\n",
       "      <td>8.68</td>\n",
       "    </tr>\n",
       "    <tr>\n",
       "      <th>0</th>\n",
       "      <td>LR Elastic - Grid Search</td>\n",
       "      <td>0.01</td>\n",
       "      <td>471.08</td>\n",
       "      <td>21.70</td>\n",
       "      <td>17.22</td>\n",
       "      <td>8.69</td>\n",
       "    </tr>\n",
       "    <tr>\n",
       "      <th>0</th>\n",
       "      <td>Polynomial - Elastic</td>\n",
       "      <td>0.01</td>\n",
       "      <td>481.70</td>\n",
       "      <td>21.95</td>\n",
       "      <td>17.43</td>\n",
       "      <td>8.75</td>\n",
       "    </tr>\n",
       "    <tr>\n",
       "      <th>0</th>\n",
       "      <td>LR Lasso - Grid Search</td>\n",
       "      <td>0.01</td>\n",
       "      <td>472.56</td>\n",
       "      <td>21.74</td>\n",
       "      <td>17.24</td>\n",
       "      <td>8.70</td>\n",
       "    </tr>\n",
       "    <tr>\n",
       "      <th>0</th>\n",
       "      <td>Polynomial - Lasso</td>\n",
       "      <td>0.01</td>\n",
       "      <td>482.82</td>\n",
       "      <td>21.97</td>\n",
       "      <td>17.46</td>\n",
       "      <td>8.76</td>\n",
       "    </tr>\n",
       "    <tr>\n",
       "      <th>0</th>\n",
       "      <td>RANSAC - Grid Search</td>\n",
       "      <td>0.00</td>\n",
       "      <td>477.12</td>\n",
       "      <td>21.84</td>\n",
       "      <td>17.19</td>\n",
       "      <td>8.92</td>\n",
       "    </tr>\n",
       "    <tr>\n",
       "      <th>0</th>\n",
       "      <td>LR - Elastic</td>\n",
       "      <td>0.00</td>\n",
       "      <td>486.61</td>\n",
       "      <td>22.06</td>\n",
       "      <td>17.54</td>\n",
       "      <td>8.71</td>\n",
       "    </tr>\n",
       "    <tr>\n",
       "      <th>0</th>\n",
       "      <td>LR - Lasso</td>\n",
       "      <td>-0.00</td>\n",
       "      <td>486.96</td>\n",
       "      <td>22.07</td>\n",
       "      <td>17.55</td>\n",
       "      <td>8.71</td>\n",
       "    </tr>\n",
       "    <tr>\n",
       "      <th>0</th>\n",
       "      <td>Decision Tree</td>\n",
       "      <td>-0.24</td>\n",
       "      <td>603.81</td>\n",
       "      <td>24.57</td>\n",
       "      <td>16.87</td>\n",
       "      <td>6.33</td>\n",
       "    </tr>\n",
       "    <tr>\n",
       "      <th>0</th>\n",
       "      <td>RANSAC</td>\n",
       "      <td>-0.86</td>\n",
       "      <td>906.18</td>\n",
       "      <td>30.10</td>\n",
       "      <td>23.58</td>\n",
       "      <td>8.77</td>\n",
       "    </tr>\n",
       "  </tbody>\n",
       "</table>\n",
       "</div>"
      ],
      "text/plain": [
       "                           Model    R²    MSE  RMSE   MAE  MAPE\n",
       "0                  Random Forest  0.35 315.85 17.77 13.05  6.51\n",
       "0    Random Forest - Grid Search  0.10 430.80 20.76 16.51  8.41\n",
       "0          Polynomial Regression  0.09 443.04 21.05 16.72  8.24\n",
       "0             Polynomial - Ridge  0.09 443.49 21.06 16.73  8.29\n",
       "0    Decision Tree - Grid Search  0.08 441.14 21.00 16.75  8.35\n",
       "0    Polynomial Ridge - Degree 2  0.07 445.24 21.10 16.74  8.59\n",
       "0          Polynomial - Degree 2  0.07 445.77 21.11 16.75  8.55\n",
       "0              Linear Regression  0.05 461.43 21.48 17.13  8.52\n",
       "0                     LR - Ridge  0.05 461.45 21.48 17.13  8.52\n",
       "0         LR Ridge - Grid Search  0.04 458.44 21.41 17.04  8.68\n",
       "0  Polynomial Elastic - Degree 2  0.03 464.81 21.56 17.07  8.66\n",
       "0    Polynomial Lasso - Degree 2  0.02 469.11 21.66 17.15  8.68\n",
       "0       LR Elastic - Grid Search  0.01 471.08 21.70 17.22  8.69\n",
       "0           Polynomial - Elastic  0.01 481.70 21.95 17.43  8.75\n",
       "0         LR Lasso - Grid Search  0.01 472.56 21.74 17.24  8.70\n",
       "0             Polynomial - Lasso  0.01 482.82 21.97 17.46  8.76\n",
       "0           RANSAC - Grid Search  0.00 477.12 21.84 17.19  8.92\n",
       "0                   LR - Elastic  0.00 486.61 22.06 17.54  8.71\n",
       "0                     LR - Lasso -0.00 486.96 22.07 17.55  8.71\n",
       "0                  Decision Tree -0.24 603.81 24.57 16.87  6.33\n",
       "0                         RANSAC -0.86 906.18 30.10 23.58  8.77"
      ]
     },
     "metadata": {},
     "output_type": "display_data"
    }
   ],
   "source": [
    "join_metrics = pd.concat( [metrics, grid_metrics] )\n",
    "\n",
    "display( join_metrics.sort_values( by='R²', ascending=False ) )"
   ]
  },
  {
   "cell_type": "markdown",
   "metadata": {},
   "source": [
    "### 2.3 Performance com os Dados de Teste + Melhores Parâmetros"
   ]
  },
  {
   "cell_type": "code",
   "execution_count": 93,
   "metadata": {},
   "outputs": [],
   "source": [
    "# Juntando os Dados de Treino + Validação\n",
    "X_final = np.concatenate( ( X_train, X_val ))\n",
    "y_final = np.concatenate( ( y_train, y_val ))"
   ]
  },
  {
   "cell_type": "markdown",
   "metadata": {},
   "source": [
    "#### Linear Regression"
   ]
  },
  {
   "cell_type": "code",
   "execution_count": 94,
   "metadata": {},
   "outputs": [],
   "source": [
    "final_lr = LinearRegression()\n",
    "final_lr_pipeline = Pipeline([('MinMaxScaler', MinMaxScaler()), ('Linear Regression', final_lr)])\n",
    "\n",
    "final_lr_pipeline.fit( X_final, y_final )\n",
    "\n",
    "y_pred_lr_final = final_lr_pipeline.predict( X_test )"
   ]
  },
  {
   "cell_type": "markdown",
   "metadata": {},
   "source": [
    "#### Decision Tree"
   ]
  },
  {
   "cell_type": "code",
   "execution_count": 95,
   "metadata": {},
   "outputs": [],
   "source": [
    "final_tree = DecisionTreeRegressor( max_depth=10, min_samples_leaf=100, random_state=42 )\n",
    "final_tree_pipeline = Pipeline([('MinMaxScaler', MinMaxScaler()), ('Decision Tree', final_tree)])\n",
    "\n",
    "final_tree_pipeline.fit( X_final, y_final )\n",
    "\n",
    "y_pred_tree_final = final_tree_pipeline.predict( X_test )"
   ]
  },
  {
   "cell_type": "markdown",
   "metadata": {},
   "source": [
    "#### Random Forest"
   ]
  },
  {
   "cell_type": "code",
   "execution_count": 96,
   "metadata": {},
   "outputs": [],
   "source": [
    "final_rf = RandomForestRegressor( min_samples_leaf=5, n_estimators=50, random_state=42 )\n",
    "final_rf_pipeline = Pipeline([('MinMaxScaler', MinMaxScaler()), ('Random Forest', final_rf)])\n",
    "\n",
    "final_rf_pipeline.fit( X_final, y_final )\n",
    "\n",
    "y_pred_rf_final = final_rf_pipeline.predict( X_test )"
   ]
  },
  {
   "cell_type": "markdown",
   "metadata": {},
   "source": [
    "#### Polynomial"
   ]
  },
  {
   "cell_type": "code",
   "execution_count": 97,
   "metadata": {},
   "outputs": [],
   "source": [
    "poly = PolynomialFeatures( degree=2 )\n",
    "X_test_poly  = poly.fit_transform( X_test )\n",
    "X_final_poly = poly.fit_transform( X_final )"
   ]
  },
  {
   "cell_type": "code",
   "execution_count": 98,
   "metadata": {},
   "outputs": [],
   "source": [
    "final_poly = LinearRegression()\n",
    "final_poly.fit( X_final_poly, y_final )\n",
    "\n",
    "y_pred_poly_final = final_poly.predict( X_test_poly )"
   ]
  },
  {
   "cell_type": "markdown",
   "metadata": {},
   "source": [
    "#### RANSAC"
   ]
  },
  {
   "cell_type": "code",
   "execution_count": 99,
   "metadata": {},
   "outputs": [],
   "source": [
    "final_ransac = RANSACRegressor( max_trials=100, min_samples=200, residual_threshold=2.5, random_state=42 )\n",
    "final_ransac_pipeline = Pipeline([('MinMaxScaler', MinMaxScaler()), ('RANSAC', final_ransac)])\n",
    "\n",
    "final_ransac_pipeline.fit( X_final, y_final )\n",
    "\n",
    "y_pred_ransac_final = final_ransac_pipeline.predict( X_test )"
   ]
  },
  {
   "cell_type": "markdown",
   "metadata": {},
   "source": [
    "#### Linear Regression - Lasso"
   ]
  },
  {
   "cell_type": "code",
   "execution_count": 100,
   "metadata": {},
   "outputs": [],
   "source": [
    "final_lr_lasso = Lasso( alpha=0.5, max_iter=500 )\n",
    "final_lr_lasso_pipeline = Pipeline([('MinMaxScaler', MinMaxScaler()), ('LR Lasso', final_lr_lasso)])\n",
    "\n",
    "final_lr_lasso_pipeline.fit( X_final, y_final )\n",
    "\n",
    "y_pred_lr_lasso_final = final_lr_lasso_pipeline.predict( X_test )"
   ]
  },
  {
   "cell_type": "markdown",
   "metadata": {},
   "source": [
    "#### Linear Regression - Ridge"
   ]
  },
  {
   "cell_type": "code",
   "execution_count": 101,
   "metadata": {},
   "outputs": [],
   "source": [
    "final_lr_ridge = Ridge( alpha=10, max_iter=500 )\n",
    "final_lr_ridge_pipeline = Pipeline([('MinMaxScaler', MinMaxScaler()), ('LR Ridge', final_lr_ridge)])\n",
    "\n",
    "final_lr_ridge_pipeline.fit( X_final, y_final )\n",
    "\n",
    "y_pred_lr_ridge_final = final_lr_ridge_pipeline.predict( X_test )"
   ]
  },
  {
   "cell_type": "markdown",
   "metadata": {},
   "source": [
    "#### Linear Regression - Elastic Net"
   ]
  },
  {
   "cell_type": "code",
   "execution_count": 102,
   "metadata": {},
   "outputs": [],
   "source": [
    "final_lr_elastic = ElasticNet( alpha=0.5, l1_ratio=0.25, max_iter=500 )\n",
    "final_lr_elastic_pipeline = Pipeline([('MinMaxScaler', MinMaxScaler()), ('LR Elastic', final_lr_elastic)])\n",
    "\n",
    "final_lr_elastic_pipeline.fit( X_final, y_final )\n",
    "\n",
    "y_pred_lr_elastic_final = final_lr_elastic_pipeline.predict( X_test )"
   ]
  },
  {
   "cell_type": "markdown",
   "metadata": {},
   "source": [
    "#### Polynomial Regression - Lasso"
   ]
  },
  {
   "cell_type": "code",
   "execution_count": 103,
   "metadata": {},
   "outputs": [],
   "source": [
    "poly = PolynomialFeatures( degree=2 )\n",
    "X_test_poly  = poly.fit_transform( X_test )\n",
    "X_final_poly = poly.fit_transform( X_final )"
   ]
  },
  {
   "cell_type": "code",
   "execution_count": 104,
   "metadata": {},
   "outputs": [],
   "source": [
    "final_poly_lasso = Lasso( alpha=0.5, max_iter=500 )\n",
    "final_poly_lasso.fit( X_final_poly, y_final )\n",
    "\n",
    "y_pred_poly_lasso_final = final_poly_lasso.predict( X_test_poly )"
   ]
  },
  {
   "cell_type": "markdown",
   "metadata": {},
   "source": [
    "#### Polynomial Regression - Ridge"
   ]
  },
  {
   "cell_type": "code",
   "execution_count": 105,
   "metadata": {},
   "outputs": [],
   "source": [
    "poly = PolynomialFeatures( degree=2 )\n",
    "X_test_poly  = poly.fit_transform( X_test )\n",
    "X_final_poly = poly.fit_transform( X_final )"
   ]
  },
  {
   "cell_type": "code",
   "execution_count": 106,
   "metadata": {},
   "outputs": [],
   "source": [
    "final_poly_ridge = Ridge( alpha=5, max_iter=500 )\n",
    "final_poly_ridge.fit( X_final_poly, y_final )\n",
    "\n",
    "y_pred_poly_ridge_final = final_poly_ridge.predict( X_test_poly )"
   ]
  },
  {
   "cell_type": "markdown",
   "metadata": {},
   "source": [
    "#### Polynomial Regression - Elastic Net"
   ]
  },
  {
   "cell_type": "code",
   "execution_count": 107,
   "metadata": {},
   "outputs": [],
   "source": [
    "poly = PolynomialFeatures( degree=2 )\n",
    "X_test_poly  = poly.fit_transform( X_test )\n",
    "X_final_poly = poly.fit_transform( X_final )"
   ]
  },
  {
   "cell_type": "code",
   "execution_count": 108,
   "metadata": {},
   "outputs": [],
   "source": [
    "final_poly_elastic = ElasticNet( alpha=0.5, l1_ratio=0.25, max_iter=500 )\n",
    "final_poly_elastic.fit( X_final_poly, y_final )\n",
    "\n",
    "y_pred_poly_elastic_final = final_poly_elastic.predict( X_test_poly )"
   ]
  },
  {
   "cell_type": "markdown",
   "metadata": {},
   "source": [
    "#### Performance"
   ]
  },
  {
   "cell_type": "code",
   "execution_count": 109,
   "metadata": {},
   "outputs": [],
   "source": [
    "final_lr_metrics = model_avaliation( 'Linear Regression - Final', y_test, y_pred_lr_final )\n",
    "final_tree_metrics = model_avaliation( 'Decision Tree - Final', y_test, y_pred_tree_final )\n",
    "final_rf_metrics = model_avaliation( 'Random Forest - Final', y_test, y_pred_rf_final )\n",
    "final_poly_metrics = model_avaliation( 'Polynomial Regression', y_test, y_pred_poly_final )\n",
    "final_ransac_metrics = model_avaliation( 'RANSAC - Final', y_test, y_pred_ransac_final )\n",
    "final_lr_lasso_metrics = model_avaliation(' Linear Regression Lasso - Final', y_test, y_pred_lr_lasso_final )\n",
    "final_lr_ridge_metrics = model_avaliation( 'Linear Regression Ridge - Final', y_test, y_pred_lr_ridge_final )\n",
    "final_lr_elastic_metrics = model_avaliation( 'Linear Regression Elastic', y_test, y_pred_lr_elastic_final )\n",
    "final_poly_lasso_metrics = model_avaliation( 'Polynomial Lasso', y_test, y_pred_poly_lasso_final )\n",
    "final_poly_ridge_metrics = model_avaliation( 'Polynomial Ridge - Final', y_test, y_pred_poly_ridge_final )\n",
    "final_poly_elastic_metrics = model_avaliation( 'Polynomial Elastic - Final', y_test, y_pred_poly_elastic_final )"
   ]
  },
  {
   "cell_type": "code",
   "execution_count": 110,
   "metadata": {},
   "outputs": [
    {
     "data": {
      "text/html": [
       "<div>\n",
       "<style scoped>\n",
       "    .dataframe tbody tr th:only-of-type {\n",
       "        vertical-align: middle;\n",
       "    }\n",
       "\n",
       "    .dataframe tbody tr th {\n",
       "        vertical-align: top;\n",
       "    }\n",
       "\n",
       "    .dataframe thead th {\n",
       "        text-align: right;\n",
       "    }\n",
       "</style>\n",
       "<table border=\"1\" class=\"dataframe\">\n",
       "  <thead>\n",
       "    <tr style=\"text-align: right;\">\n",
       "      <th></th>\n",
       "      <th>Model</th>\n",
       "      <th>R²</th>\n",
       "      <th>MSE</th>\n",
       "      <th>RMSE</th>\n",
       "      <th>MAE</th>\n",
       "      <th>MAPE</th>\n",
       "    </tr>\n",
       "  </thead>\n",
       "  <tbody>\n",
       "    <tr>\n",
       "      <th>0</th>\n",
       "      <td>Random Forest - Final</td>\n",
       "      <td>0.36</td>\n",
       "      <td>313.02</td>\n",
       "      <td>17.69</td>\n",
       "      <td>13.47</td>\n",
       "      <td>6.86</td>\n",
       "    </tr>\n",
       "    <tr>\n",
       "      <th>0</th>\n",
       "      <td>Polynomial Regression</td>\n",
       "      <td>0.09</td>\n",
       "      <td>442.64</td>\n",
       "      <td>21.04</td>\n",
       "      <td>16.74</td>\n",
       "      <td>8.28</td>\n",
       "    </tr>\n",
       "    <tr>\n",
       "      <th>0</th>\n",
       "      <td>Decision Tree - Final</td>\n",
       "      <td>0.09</td>\n",
       "      <td>442.84</td>\n",
       "      <td>21.04</td>\n",
       "      <td>16.79</td>\n",
       "      <td>8.13</td>\n",
       "    </tr>\n",
       "    <tr>\n",
       "      <th>0</th>\n",
       "      <td>Polynomial Ridge - Final</td>\n",
       "      <td>0.09</td>\n",
       "      <td>443.96</td>\n",
       "      <td>21.07</td>\n",
       "      <td>16.76</td>\n",
       "      <td>8.34</td>\n",
       "    </tr>\n",
       "    <tr>\n",
       "      <th>0</th>\n",
       "      <td>Linear Regression - Final</td>\n",
       "      <td>0.05</td>\n",
       "      <td>461.99</td>\n",
       "      <td>21.49</td>\n",
       "      <td>17.14</td>\n",
       "      <td>8.53</td>\n",
       "    </tr>\n",
       "    <tr>\n",
       "      <th>0</th>\n",
       "      <td>Linear Regression Ridge - Final</td>\n",
       "      <td>0.05</td>\n",
       "      <td>462.15</td>\n",
       "      <td>21.50</td>\n",
       "      <td>17.15</td>\n",
       "      <td>8.53</td>\n",
       "    </tr>\n",
       "    <tr>\n",
       "      <th>0</th>\n",
       "      <td>Polynomial Elastic - Final</td>\n",
       "      <td>0.03</td>\n",
       "      <td>474.63</td>\n",
       "      <td>21.79</td>\n",
       "      <td>17.29</td>\n",
       "      <td>8.70</td>\n",
       "    </tr>\n",
       "    <tr>\n",
       "      <th>0</th>\n",
       "      <td>Polynomial Lasso</td>\n",
       "      <td>0.02</td>\n",
       "      <td>479.06</td>\n",
       "      <td>21.89</td>\n",
       "      <td>17.39</td>\n",
       "      <td>8.75</td>\n",
       "    </tr>\n",
       "    <tr>\n",
       "      <th>0</th>\n",
       "      <td>Linear Regression Lasso - Final</td>\n",
       "      <td>0.01</td>\n",
       "      <td>483.88</td>\n",
       "      <td>22.00</td>\n",
       "      <td>17.48</td>\n",
       "      <td>8.68</td>\n",
       "    </tr>\n",
       "    <tr>\n",
       "      <th>0</th>\n",
       "      <td>Linear Regression Elastic</td>\n",
       "      <td>0.01</td>\n",
       "      <td>484.09</td>\n",
       "      <td>22.00</td>\n",
       "      <td>17.49</td>\n",
       "      <td>8.70</td>\n",
       "    </tr>\n",
       "    <tr>\n",
       "      <th>0</th>\n",
       "      <td>RANSAC - Final</td>\n",
       "      <td>-0.06</td>\n",
       "      <td>514.70</td>\n",
       "      <td>22.69</td>\n",
       "      <td>17.63</td>\n",
       "      <td>9.47</td>\n",
       "    </tr>\n",
       "  </tbody>\n",
       "</table>\n",
       "</div>"
      ],
      "text/plain": [
       "                              Model    R²    MSE  RMSE   MAE  MAPE\n",
       "0             Random Forest - Final  0.36 313.02 17.69 13.47  6.86\n",
       "0             Polynomial Regression  0.09 442.64 21.04 16.74  8.28\n",
       "0             Decision Tree - Final  0.09 442.84 21.04 16.79  8.13\n",
       "0          Polynomial Ridge - Final  0.09 443.96 21.07 16.76  8.34\n",
       "0         Linear Regression - Final  0.05 461.99 21.49 17.14  8.53\n",
       "0   Linear Regression Ridge - Final  0.05 462.15 21.50 17.15  8.53\n",
       "0        Polynomial Elastic - Final  0.03 474.63 21.79 17.29  8.70\n",
       "0                  Polynomial Lasso  0.02 479.06 21.89 17.39  8.75\n",
       "0   Linear Regression Lasso - Final  0.01 483.88 22.00 17.48  8.68\n",
       "0         Linear Regression Elastic  0.01 484.09 22.00 17.49  8.70\n",
       "0                    RANSAC - Final -0.06 514.70 22.69 17.63  9.47"
      ]
     },
     "metadata": {},
     "output_type": "display_data"
    }
   ],
   "source": [
    "final_metrics = pd.concat( [final_lr_metrics, final_tree_metrics, final_rf_metrics, final_poly_metrics,\n",
    "                           final_ransac_metrics, final_lr_lasso_metrics, final_lr_ridge_metrics, \n",
    "                           final_lr_elastic_metrics, final_poly_lasso_metrics, final_poly_ridge_metrics,\n",
    "                           final_poly_elastic_metrics] )\n",
    "display( final_metrics.sort_values( by='R²', ascending=False) )"
   ]
  }
 ],
 "metadata": {
  "kernelspec": {
   "display_name": "ensaio_ml",
   "language": "python",
   "name": "python3"
  },
  "language_info": {
   "codemirror_mode": {
    "name": "ipython",
    "version": 3
   },
   "file_extension": ".py",
   "mimetype": "text/x-python",
   "name": "python",
   "nbconvert_exporter": "python",
   "pygments_lexer": "ipython3",
   "version": "3.10.13"
  }
 },
 "nbformat": 4,
 "nbformat_minor": 2
}
