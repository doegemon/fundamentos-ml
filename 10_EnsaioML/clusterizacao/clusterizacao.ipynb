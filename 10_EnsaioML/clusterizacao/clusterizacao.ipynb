{
 "cells": [
  {
   "cell_type": "markdown",
   "metadata": {},
   "source": [
    "# Ensaio de Machine Learning - Clusterização"
   ]
  },
  {
   "cell_type": "markdown",
   "metadata": {},
   "source": [
    "## 0. Bibliotecas e _Helper Functions_"
   ]
  },
  {
   "cell_type": "code",
   "execution_count": 53,
   "metadata": {},
   "outputs": [],
   "source": [
    "import warnings\n",
    "import numpy  as np\n",
    "import pandas as pd\n",
    "from sklearn.cluster import KMeans, AffinityPropagation\n",
    "from sklearn.metrics import silhouette_score\n",
    "from yellowbrick.cluster import KElbowVisualizer\n",
    "from matplotlib import pyplot as plt"
   ]
  },
  {
   "cell_type": "code",
   "execution_count": 12,
   "metadata": {},
   "outputs": [],
   "source": [
    "def personal_settings():\n",
    "    pd.options.display.max_columns = None\n",
    "    pd.options.display.max_rows = None\n",
    "    pd.set_option('display.float_format', lambda x:'%.2f' % x)\n",
    "    warnings.filterwarnings('ignore')\n",
    "\n",
    "\n",
    "def model_avaliation( model, data, labels): \n",
    "    ss = silhouette_score( data, labels )\n",
    "    \n",
    "    return pd.DataFrame( {'Model': model,\n",
    "                         'Silhouette Score': ss}, index=[0] )\n",
    "\n",
    "personal_settings()"
   ]
  },
  {
   "cell_type": "markdown",
   "metadata": {},
   "source": [
    "## 1. Carregando Dados"
   ]
  },
  {
   "cell_type": "code",
   "execution_count": 3,
   "metadata": {},
   "outputs": [
    {
     "name": "stdout",
     "output_type": "stream",
     "text": [
      "(178, 13)\n"
     ]
    },
    {
     "data": {
      "text/html": [
       "<div>\n",
       "<style scoped>\n",
       "    .dataframe tbody tr th:only-of-type {\n",
       "        vertical-align: middle;\n",
       "    }\n",
       "\n",
       "    .dataframe tbody tr th {\n",
       "        vertical-align: top;\n",
       "    }\n",
       "\n",
       "    .dataframe thead th {\n",
       "        text-align: right;\n",
       "    }\n",
       "</style>\n",
       "<table border=\"1\" class=\"dataframe\">\n",
       "  <thead>\n",
       "    <tr style=\"text-align: right;\">\n",
       "      <th></th>\n",
       "      <th>alcohol</th>\n",
       "      <th>malic_acid</th>\n",
       "      <th>ash</th>\n",
       "      <th>ash_alcanity</th>\n",
       "      <th>magnesium</th>\n",
       "      <th>total_phenols</th>\n",
       "      <th>flavanoids</th>\n",
       "      <th>nonflavanoid_phenols</th>\n",
       "      <th>proanthocyanins</th>\n",
       "      <th>color_intensity</th>\n",
       "      <th>hue</th>\n",
       "      <th>od280</th>\n",
       "      <th>proline</th>\n",
       "    </tr>\n",
       "  </thead>\n",
       "  <tbody>\n",
       "    <tr>\n",
       "      <th>90</th>\n",
       "      <td>-1.14</td>\n",
       "      <td>0.22</td>\n",
       "      <td>-0.17</td>\n",
       "      <td>-0.30</td>\n",
       "      <td>-1.32</td>\n",
       "      <td>0.21</td>\n",
       "      <td>0.24</td>\n",
       "      <td>1.27</td>\n",
       "      <td>0.09</td>\n",
       "      <td>-1.15</td>\n",
       "      <td>0.49</td>\n",
       "      <td>0.37</td>\n",
       "      <td>0.14</td>\n",
       "    </tr>\n",
       "    <tr>\n",
       "      <th>171</th>\n",
       "      <td>-0.28</td>\n",
       "      <td>0.33</td>\n",
       "      <td>-0.32</td>\n",
       "      <td>0.00</td>\n",
       "      <td>-0.96</td>\n",
       "      <td>0.14</td>\n",
       "      <td>0.04</td>\n",
       "      <td>0.95</td>\n",
       "      <td>-1.67</td>\n",
       "      <td>2.09</td>\n",
       "      <td>0.07</td>\n",
       "      <td>0.13</td>\n",
       "      <td>0.14</td>\n",
       "    </tr>\n",
       "    <tr>\n",
       "      <th>93</th>\n",
       "      <td>-0.88</td>\n",
       "      <td>0.41</td>\n",
       "      <td>-0.54</td>\n",
       "      <td>-0.45</td>\n",
       "      <td>-0.82</td>\n",
       "      <td>0.51</td>\n",
       "      <td>0.40</td>\n",
       "      <td>-0.90</td>\n",
       "      <td>0.70</td>\n",
       "      <td>-1.26</td>\n",
       "      <td>0.54</td>\n",
       "      <td>0.74</td>\n",
       "      <td>0.01</td>\n",
       "    </tr>\n",
       "    <tr>\n",
       "      <th>25</th>\n",
       "      <td>0.06</td>\n",
       "      <td>0.26</td>\n",
       "      <td>3.12</td>\n",
       "      <td>1.65</td>\n",
       "      <td>1.70</td>\n",
       "      <td>0.57</td>\n",
       "      <td>0.49</td>\n",
       "      <td>0.87</td>\n",
       "      <td>0.58</td>\n",
       "      <td>-0.64</td>\n",
       "      <td>0.53</td>\n",
       "      <td>0.71</td>\n",
       "      <td>0.39</td>\n",
       "    </tr>\n",
       "    <tr>\n",
       "      <th>29</th>\n",
       "      <td>1.26</td>\n",
       "      <td>0.19</td>\n",
       "      <td>-0.57</td>\n",
       "      <td>-1.05</td>\n",
       "      <td>-0.26</td>\n",
       "      <td>0.58</td>\n",
       "      <td>0.42</td>\n",
       "      <td>-0.82</td>\n",
       "      <td>0.68</td>\n",
       "      <td>-0.15</td>\n",
       "      <td>0.46</td>\n",
       "      <td>0.85</td>\n",
       "      <td>0.54</td>\n",
       "    </tr>\n",
       "  </tbody>\n",
       "</table>\n",
       "</div>"
      ],
      "text/plain": [
       "     alcohol  malic_acid   ash  ash_alcanity  magnesium  total_phenols  \\\n",
       "90     -1.14        0.22 -0.17         -0.30      -1.32           0.21   \n",
       "171    -0.28        0.33 -0.32          0.00      -0.96           0.14   \n",
       "93     -0.88        0.41 -0.54         -0.45      -0.82           0.51   \n",
       "25      0.06        0.26  3.12          1.65       1.70           0.57   \n",
       "29      1.26        0.19 -0.57         -1.05      -0.26           0.58   \n",
       "\n",
       "     flavanoids  nonflavanoid_phenols  proanthocyanins  color_intensity  hue  \\\n",
       "90         0.24                  1.27             0.09            -1.15 0.49   \n",
       "171        0.04                  0.95            -1.67             2.09 0.07   \n",
       "93         0.40                 -0.90             0.70            -1.26 0.54   \n",
       "25         0.49                  0.87             0.58            -0.64 0.53   \n",
       "29         0.42                 -0.82             0.68            -0.15 0.46   \n",
       "\n",
       "     od280  proline  \n",
       "90    0.37     0.14  \n",
       "171   0.13     0.14  \n",
       "93    0.74     0.01  \n",
       "25    0.71     0.39  \n",
       "29    0.85     0.54  "
      ]
     },
     "metadata": {},
     "output_type": "display_data"
    }
   ],
   "source": [
    "X_train = pd.read_csv( 'data/X_dataset.csv', low_memory=False )\n",
    "print( X_train.shape )\n",
    "display( X_train.sample( 5 ) )"
   ]
  },
  {
   "cell_type": "markdown",
   "metadata": {},
   "source": [
    "## 2. Treinamento dos Algoritmos"
   ]
  },
  {
   "cell_type": "markdown",
   "metadata": {},
   "source": [
    "### 2.1 Sem Alteração nos Parâmetros"
   ]
  },
  {
   "cell_type": "markdown",
   "metadata": {},
   "source": [
    "#### K-Means"
   ]
  },
  {
   "cell_type": "code",
   "execution_count": 22,
   "metadata": {},
   "outputs": [],
   "source": [
    "kmeans = KMeans( random_state=42 )\n",
    "\n",
    "k_labels = kmeans.fit_predict( X_train )\n",
    "\n",
    "kmeans_metric = model_avaliation( 'K-Means', X_train, k_labels )"
   ]
  },
  {
   "cell_type": "markdown",
   "metadata": {},
   "source": [
    "#### Affinity Propagation"
   ]
  },
  {
   "cell_type": "code",
   "execution_count": 43,
   "metadata": {},
   "outputs": [],
   "source": [
    "ap = AffinityPropagation( random_state=42 )\n",
    "\n",
    "ap_labels = ap.fit_predict( X_train )\n",
    "\n",
    "ap_metric = model_avaliation( 'Affinity Propagation', X_train, ap_labels )"
   ]
  },
  {
   "cell_type": "markdown",
   "metadata": {},
   "source": [
    "#### Performance"
   ]
  },
  {
   "cell_type": "code",
   "execution_count": 24,
   "metadata": {},
   "outputs": [
    {
     "data": {
      "text/html": [
       "<div>\n",
       "<style scoped>\n",
       "    .dataframe tbody tr th:only-of-type {\n",
       "        vertical-align: middle;\n",
       "    }\n",
       "\n",
       "    .dataframe tbody tr th {\n",
       "        vertical-align: top;\n",
       "    }\n",
       "\n",
       "    .dataframe thead th {\n",
       "        text-align: right;\n",
       "    }\n",
       "</style>\n",
       "<table border=\"1\" class=\"dataframe\">\n",
       "  <thead>\n",
       "    <tr style=\"text-align: right;\">\n",
       "      <th></th>\n",
       "      <th>Model</th>\n",
       "      <th>Silhouette Score</th>\n",
       "    </tr>\n",
       "  </thead>\n",
       "  <tbody>\n",
       "    <tr>\n",
       "      <th>0</th>\n",
       "      <td>K-Means</td>\n",
       "      <td>0.19</td>\n",
       "    </tr>\n",
       "    <tr>\n",
       "      <th>0</th>\n",
       "      <td>Affinity Propagation</td>\n",
       "      <td>0.17</td>\n",
       "    </tr>\n",
       "  </tbody>\n",
       "</table>\n",
       "</div>"
      ],
      "text/plain": [
       "                  Model  Silhouette Score\n",
       "0               K-Means              0.19\n",
       "0  Affinity Propagation              0.17"
      ]
     },
     "metadata": {},
     "output_type": "display_data"
    }
   ],
   "source": [
    "initial_metrics = pd.concat( [kmeans_metric, ap_metric] )\n",
    "display( initial_metrics.sort_values( by='Silhouette Score', ascending= False ) )"
   ]
  },
  {
   "cell_type": "markdown",
   "metadata": {},
   "source": [
    "### 2.2 Buscando os Melhores Parâmetros"
   ]
  },
  {
   "cell_type": "markdown",
   "metadata": {},
   "source": [
    "#### K-Means"
   ]
  },
  {
   "cell_type": "code",
   "execution_count": 27,
   "metadata": {},
   "outputs": [
    {
     "data": {
      "image/png": "[encoded data removed]",
      "text/plain": [
       "<Figure size 800x550 with 1 Axes>"
      ]
     },
     "metadata": {},
     "output_type": "display_data"
    }
   ],
   "source": [
    "n_clusters = [2, 3, 4, 5, 6, 7, 8, 9, 10]\n",
    "\n",
    "kmeans = KElbowVisualizer( KMeans( random_state=42 ), metric='silhouette', k=n_clusters, timings=False )\n",
    "kmeans.fit( X_train )\n",
    "kmeans.show();"
   ]
  },
  {
   "cell_type": "markdown",
   "metadata": {},
   "source": [
    "#### Affinity Propagation"
   ]
  },
  {
   "cell_type": "code",
   "execution_count": 47,
   "metadata": {},
   "outputs": [
    {
     "data": {
      "image/png": "[encoded data removed]",
      "text/plain": [
       "<Figure size 800x550 with 1 Axes>"
      ]
     },
     "metadata": {},
     "output_type": "display_data"
    }
   ],
   "source": [
    "preferences = np.arange( -1, -100, -5 )\n",
    "ss_list = list()\n",
    "\n",
    "for i in range( len( preferences ) ):\n",
    "\n",
    "    loop_model = AffinityPropagation( preference=preferences[i], random_state=42 )\n",
    "    loop_labels = loop_model.fit_predict( X_train )\n",
    "\n",
    "    loop_ss = silhouette_score( X_train, loop_labels )\n",
    "\n",
    "    ss_list.append( loop_ss )\n",
    "\n",
    "plt.plot( preferences, ss_list )\n",
    "plt.xlabel( 'Preference' )\n",
    "plt.ylabel( 'Silhouette Score' );"
   ]
  },
  {
   "cell_type": "markdown",
   "metadata": {},
   "source": [
    "### 2.3 Modelos com os Melhores Parâmetros"
   ]
  },
  {
   "cell_type": "markdown",
   "metadata": {},
   "source": [
    "#### K-Means"
   ]
  },
  {
   "cell_type": "code",
   "execution_count": 49,
   "metadata": {},
   "outputs": [],
   "source": [
    "final_kmeans = KMeans( n_clusters=3, random_state=42 )\n",
    "\n",
    "k_labels_final = final_kmeans.fit_predict( X_train )\n",
    "\n",
    "kmeans_metric_final = model_avaliation( 'K-Means', X_train, k_labels_final )"
   ]
  },
  {
   "cell_type": "markdown",
   "metadata": {},
   "source": [
    "#### Affinity Propagation"
   ]
  },
  {
   "cell_type": "code",
   "execution_count": 51,
   "metadata": {},
   "outputs": [],
   "source": [
    "final_ap = AffinityPropagation( preference=-51, random_state=42 )\n",
    "\n",
    "ap_labels_final = final_ap.fit_predict( X_train )\n",
    "\n",
    "ap_metric_final = model_avaliation( 'Affinity Propagation', X_train, ap_labels_final )"
   ]
  },
  {
   "cell_type": "markdown",
   "metadata": {},
   "source": [
    "#### Performance"
   ]
  },
  {
   "cell_type": "code",
   "execution_count": 52,
   "metadata": {},
   "outputs": [
    {
     "data": {
      "text/html": [
       "<div>\n",
       "<style scoped>\n",
       "    .dataframe tbody tr th:only-of-type {\n",
       "        vertical-align: middle;\n",
       "    }\n",
       "\n",
       "    .dataframe tbody tr th {\n",
       "        vertical-align: top;\n",
       "    }\n",
       "\n",
       "    .dataframe thead th {\n",
       "        text-align: right;\n",
       "    }\n",
       "</style>\n",
       "<table border=\"1\" class=\"dataframe\">\n",
       "  <thead>\n",
       "    <tr style=\"text-align: right;\">\n",
       "      <th></th>\n",
       "      <th>Model</th>\n",
       "      <th>Silhouette Score</th>\n",
       "    </tr>\n",
       "  </thead>\n",
       "  <tbody>\n",
       "    <tr>\n",
       "      <th>0</th>\n",
       "      <td>K-Means</td>\n",
       "      <td>0.23</td>\n",
       "    </tr>\n",
       "    <tr>\n",
       "      <th>0</th>\n",
       "      <td>Affinity Propagation</td>\n",
       "      <td>0.20</td>\n",
       "    </tr>\n",
       "  </tbody>\n",
       "</table>\n",
       "</div>"
      ],
      "text/plain": [
       "                  Model  Silhouette Score\n",
       "0               K-Means              0.23\n",
       "0  Affinity Propagation              0.20"
      ]
     },
     "metadata": {},
     "output_type": "display_data"
    }
   ],
   "source": [
    "final_metrics = pd.concat( [kmeans_metric_final, ap_metric_final] )\n",
    "display( final_metrics.sort_values( by='Silhouette Score', ascending= False ) )"
   ]
  }
 ],
 "metadata": {
  "kernelspec": {
   "display_name": "ensaio_ml",
   "language": "python",
   "name": "python3"
  },
  "language_info": {
   "codemirror_mode": {
    "name": "ipython",
    "version": 3
   },
   "file_extension": ".py",
   "mimetype": "text/x-python",
   "name": "python",
   "nbconvert_exporter": "python",
   "pygments_lexer": "ipython3",
   "version": "3.10.13"
  }
 },
 "nbformat": 4,
 "nbformat_minor": 2
}
